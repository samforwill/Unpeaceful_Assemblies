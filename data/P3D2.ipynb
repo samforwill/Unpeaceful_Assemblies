{
 "cells": [
  {
   "cell_type": "code",
   "execution_count": 1,
   "id": "be9e6383",
   "metadata": {},
   "outputs": [],
   "source": [
    "import numpy as np\n",
    "import pandas as pd\n",
    "from sklearn.model_selection import train_test_split\n",
    "from sklearn.preprocessing import StandardScaler\n",
    "from sklearn.linear_model import LinearRegression  # for regression\n",
    "from sklearn.ensemble import RandomForestClassifier  # for classification\n",
    "from sklearn.metrics import mean_squared_error, accuracy_score"
   ]
  },
  {
   "cell_type": "code",
   "execution_count": 2,
   "id": "9886a267",
   "metadata": {},
   "outputs": [],
   "source": [
    "df = pd.read_csv(\"USA_Full.csv\")"
   ]
  },
  {
   "cell_type": "code",
   "execution_count": 3,
   "id": "721b9ff5",
   "metadata": {},
   "outputs": [
    {
     "data": {
      "text/html": [
       "<div>\n",
       "<style scoped>\n",
       "    .dataframe tbody tr th:only-of-type {\n",
       "        vertical-align: middle;\n",
       "    }\n",
       "\n",
       "    .dataframe tbody tr th {\n",
       "        vertical-align: top;\n",
       "    }\n",
       "\n",
       "    .dataframe thead th {\n",
       "        text-align: right;\n",
       "    }\n",
       "</style>\n",
       "<table border=\"1\" class=\"dataframe\">\n",
       "  <thead>\n",
       "    <tr style=\"text-align: right;\">\n",
       "      <th></th>\n",
       "      <th>EVENT_ID_CNTY</th>\n",
       "      <th>EVENT_DATE</th>\n",
       "      <th>YEAR</th>\n",
       "      <th>TIME_PRECISION</th>\n",
       "      <th>DISORDER_TYPE</th>\n",
       "      <th>EVENT_TYPE</th>\n",
       "      <th>SUB_EVENT_TYPE</th>\n",
       "      <th>ACTOR1</th>\n",
       "      <th>ASSOC_ACTOR_1</th>\n",
       "      <th>INTER1</th>\n",
       "      <th>...</th>\n",
       "      <th>LOCATION</th>\n",
       "      <th>LATITUDE</th>\n",
       "      <th>LONGITUDE</th>\n",
       "      <th>GEO_PRECISION</th>\n",
       "      <th>SOURCE</th>\n",
       "      <th>SOURCE_SCALE</th>\n",
       "      <th>NOTES</th>\n",
       "      <th>FATALITIES</th>\n",
       "      <th>TAGS</th>\n",
       "      <th>TIMESTAMP</th>\n",
       "    </tr>\n",
       "  </thead>\n",
       "  <tbody>\n",
       "    <tr>\n",
       "      <th>0</th>\n",
       "      <td>USA23310</td>\n",
       "      <td>01-January-2020</td>\n",
       "      <td>2020</td>\n",
       "      <td>1</td>\n",
       "      <td>Demonstrations</td>\n",
       "      <td>Protests</td>\n",
       "      <td>Peaceful protest</td>\n",
       "      <td>Protesters (United States)</td>\n",
       "      <td>Health Workers (United States)</td>\n",
       "      <td>6</td>\n",
       "      <td>...</td>\n",
       "      <td>Cleveland</td>\n",
       "      <td>41.482</td>\n",
       "      <td>-81.670</td>\n",
       "      <td>1</td>\n",
       "      <td>WKYC Studios; Crowd Counting Consortium</td>\n",
       "      <td>Other-Subnational</td>\n",
       "      <td>On 1 January 2020, an unknown number of people...</td>\n",
       "      <td>0</td>\n",
       "      <td>crowd size=no report</td>\n",
       "      <td>1612546518</td>\n",
       "    </tr>\n",
       "    <tr>\n",
       "      <th>1</th>\n",
       "      <td>USA23416</td>\n",
       "      <td>01-January-2020</td>\n",
       "      <td>2020</td>\n",
       "      <td>1</td>\n",
       "      <td>Demonstrations</td>\n",
       "      <td>Protests</td>\n",
       "      <td>Peaceful protest</td>\n",
       "      <td>Protesters (United States)</td>\n",
       "      <td>NaN</td>\n",
       "      <td>6</td>\n",
       "      <td>...</td>\n",
       "      <td>Rochester</td>\n",
       "      <td>43.155</td>\n",
       "      <td>-77.616</td>\n",
       "      <td>1</td>\n",
       "      <td>13WHAM ABC; Democrat and Chronicle; 10NBC</td>\n",
       "      <td>Subnational</td>\n",
       "      <td>On 1 January 2020, people held a peace march o...</td>\n",
       "      <td>0</td>\n",
       "      <td>crowd size=no report</td>\n",
       "      <td>1612546518</td>\n",
       "    </tr>\n",
       "    <tr>\n",
       "      <th>2</th>\n",
       "      <td>USA23636</td>\n",
       "      <td>01-January-2020</td>\n",
       "      <td>2020</td>\n",
       "      <td>1</td>\n",
       "      <td>Demonstrations</td>\n",
       "      <td>Protests</td>\n",
       "      <td>Peaceful protest</td>\n",
       "      <td>Protesters (United States)</td>\n",
       "      <td>Government of the United States (2017-2021)</td>\n",
       "      <td>6</td>\n",
       "      <td>...</td>\n",
       "      <td>Phoenix</td>\n",
       "      <td>33.449</td>\n",
       "      <td>-112.074</td>\n",
       "      <td>1</td>\n",
       "      <td>Count Love; Channel 12 (Mesa)</td>\n",
       "      <td>Other-Subnational</td>\n",
       "      <td>On 1 January 2020, a group of people gathered ...</td>\n",
       "      <td>0</td>\n",
       "      <td>crowd size=no report</td>\n",
       "      <td>1612546518</td>\n",
       "    </tr>\n",
       "    <tr>\n",
       "      <th>3</th>\n",
       "      <td>USA23414</td>\n",
       "      <td>01-January-2020</td>\n",
       "      <td>2020</td>\n",
       "      <td>1</td>\n",
       "      <td>Demonstrations</td>\n",
       "      <td>Protests</td>\n",
       "      <td>Peaceful protest</td>\n",
       "      <td>Protesters (United States)</td>\n",
       "      <td>NaN</td>\n",
       "      <td>6</td>\n",
       "      <td>...</td>\n",
       "      <td>New York - Manhattan</td>\n",
       "      <td>40.783</td>\n",
       "      <td>-73.966</td>\n",
       "      <td>1</td>\n",
       "      <td>CBS2 (New York)</td>\n",
       "      <td>Subnational</td>\n",
       "      <td>On 1 January 2020, protesters gathered at NYPD...</td>\n",
       "      <td>0</td>\n",
       "      <td>crowd size=no report</td>\n",
       "      <td>1612546519</td>\n",
       "    </tr>\n",
       "    <tr>\n",
       "      <th>4</th>\n",
       "      <td>USA23635</td>\n",
       "      <td>01-January-2020</td>\n",
       "      <td>2020</td>\n",
       "      <td>1</td>\n",
       "      <td>Demonstrations</td>\n",
       "      <td>Protests</td>\n",
       "      <td>Peaceful protest</td>\n",
       "      <td>Protesters (United States)</td>\n",
       "      <td>BLM: Black Lives Matter</td>\n",
       "      <td>6</td>\n",
       "      <td>...</td>\n",
       "      <td>Oakland</td>\n",
       "      <td>37.804</td>\n",
       "      <td>-122.271</td>\n",
       "      <td>1</td>\n",
       "      <td>KTVU Fox2</td>\n",
       "      <td>Subnational</td>\n",
       "      <td>On 1 January 2020, a group of people gathered ...</td>\n",
       "      <td>0</td>\n",
       "      <td>crowd size=no report</td>\n",
       "      <td>1612546519</td>\n",
       "    </tr>\n",
       "  </tbody>\n",
       "</table>\n",
       "<p>5 rows × 31 columns</p>\n",
       "</div>"
      ],
      "text/plain": [
       "  EVENT_ID_CNTY       EVENT_DATE  YEAR  TIME_PRECISION   DISORDER_TYPE  \\\n",
       "0      USA23310  01-January-2020  2020               1  Demonstrations   \n",
       "1      USA23416  01-January-2020  2020               1  Demonstrations   \n",
       "2      USA23636  01-January-2020  2020               1  Demonstrations   \n",
       "3      USA23414  01-January-2020  2020               1  Demonstrations   \n",
       "4      USA23635  01-January-2020  2020               1  Demonstrations   \n",
       "\n",
       "  EVENT_TYPE    SUB_EVENT_TYPE                      ACTOR1  \\\n",
       "0   Protests  Peaceful protest  Protesters (United States)   \n",
       "1   Protests  Peaceful protest  Protesters (United States)   \n",
       "2   Protests  Peaceful protest  Protesters (United States)   \n",
       "3   Protests  Peaceful protest  Protesters (United States)   \n",
       "4   Protests  Peaceful protest  Protesters (United States)   \n",
       "\n",
       "                                 ASSOC_ACTOR_1  INTER1  ...  \\\n",
       "0               Health Workers (United States)       6  ...   \n",
       "1                                          NaN       6  ...   \n",
       "2  Government of the United States (2017-2021)       6  ...   \n",
       "3                                          NaN       6  ...   \n",
       "4                      BLM: Black Lives Matter       6  ...   \n",
       "\n",
       "               LOCATION LATITUDE  LONGITUDE  GEO_PRECISION  \\\n",
       "0             Cleveland   41.482    -81.670              1   \n",
       "1             Rochester   43.155    -77.616              1   \n",
       "2               Phoenix   33.449   -112.074              1   \n",
       "3  New York - Manhattan   40.783    -73.966              1   \n",
       "4               Oakland   37.804   -122.271              1   \n",
       "\n",
       "                                      SOURCE       SOURCE_SCALE  \\\n",
       "0    WKYC Studios; Crowd Counting Consortium  Other-Subnational   \n",
       "1  13WHAM ABC; Democrat and Chronicle; 10NBC        Subnational   \n",
       "2              Count Love; Channel 12 (Mesa)  Other-Subnational   \n",
       "3                            CBS2 (New York)        Subnational   \n",
       "4                                  KTVU Fox2        Subnational   \n",
       "\n",
       "                                               NOTES FATALITIES  \\\n",
       "0  On 1 January 2020, an unknown number of people...          0   \n",
       "1  On 1 January 2020, people held a peace march o...          0   \n",
       "2  On 1 January 2020, a group of people gathered ...          0   \n",
       "3  On 1 January 2020, protesters gathered at NYPD...          0   \n",
       "4  On 1 January 2020, a group of people gathered ...          0   \n",
       "\n",
       "                   TAGS   TIMESTAMP  \n",
       "0  crowd size=no report  1612546518  \n",
       "1  crowd size=no report  1612546518  \n",
       "2  crowd size=no report  1612546518  \n",
       "3  crowd size=no report  1612546519  \n",
       "4  crowd size=no report  1612546519  \n",
       "\n",
       "[5 rows x 31 columns]"
      ]
     },
     "execution_count": 3,
     "metadata": {},
     "output_type": "execute_result"
    }
   ],
   "source": [
    "df.head()"
   ]
  },
  {
   "cell_type": "code",
   "execution_count": 4,
   "id": "d09e16dd",
   "metadata": {},
   "outputs": [
    {
     "name": "stdout",
     "output_type": "stream",
     "text": [
      "<class 'pandas.core.frame.DataFrame'>\n",
      "RangeIndex: 56008 entries, 0 to 56007\n",
      "Data columns (total 31 columns):\n",
      " #   Column              Non-Null Count  Dtype  \n",
      "---  ------              --------------  -----  \n",
      " 0   EVENT_ID_CNTY       56008 non-null  object \n",
      " 1   EVENT_DATE          56008 non-null  object \n",
      " 2   YEAR                56008 non-null  int64  \n",
      " 3   TIME_PRECISION      56008 non-null  int64  \n",
      " 4   DISORDER_TYPE       56008 non-null  object \n",
      " 5   EVENT_TYPE          56008 non-null  object \n",
      " 6   SUB_EVENT_TYPE      56008 non-null  object \n",
      " 7   ACTOR1              56008 non-null  object \n",
      " 8   ASSOC_ACTOR_1       41667 non-null  object \n",
      " 9   INTER1              56008 non-null  int64  \n",
      " 10  ACTOR2              5506 non-null   object \n",
      " 11  ASSOC_ACTOR_2       2227 non-null   object \n",
      " 12  INTER2              56008 non-null  int64  \n",
      " 13  INTERACTION         56008 non-null  int64  \n",
      " 14  CIVILIAN_TARGETING  614 non-null    object \n",
      " 15  ISO                 56008 non-null  int64  \n",
      " 16  REGION              56008 non-null  object \n",
      " 17  COUNTRY             56008 non-null  object \n",
      " 18  ADMIN1              56008 non-null  object \n",
      " 19  ADMIN2              55929 non-null  object \n",
      " 20  ADMIN3              0 non-null      float64\n",
      " 21  LOCATION            56008 non-null  object \n",
      " 22  LATITUDE            56008 non-null  float64\n",
      " 23  LONGITUDE           56008 non-null  float64\n",
      " 24  GEO_PRECISION       56008 non-null  int64  \n",
      " 25  SOURCE              56008 non-null  object \n",
      " 26  SOURCE_SCALE        56008 non-null  object \n",
      " 27  NOTES               56008 non-null  object \n",
      " 28  FATALITIES          56008 non-null  int64  \n",
      " 29  TAGS                53168 non-null  object \n",
      " 30  TIMESTAMP           56008 non-null  int64  \n",
      "dtypes: float64(3), int64(9), object(19)\n",
      "memory usage: 13.2+ MB\n"
     ]
    }
   ],
   "source": [
    "df.info()"
   ]
  },
  {
   "cell_type": "code",
   "execution_count": 5,
   "id": "75ecbfae",
   "metadata": {},
   "outputs": [
    {
     "data": {
      "text/html": [
       "<div>\n",
       "<style scoped>\n",
       "    .dataframe tbody tr th:only-of-type {\n",
       "        vertical-align: middle;\n",
       "    }\n",
       "\n",
       "    .dataframe tbody tr th {\n",
       "        vertical-align: top;\n",
       "    }\n",
       "\n",
       "    .dataframe thead th {\n",
       "        text-align: right;\n",
       "    }\n",
       "</style>\n",
       "<table border=\"1\" class=\"dataframe\">\n",
       "  <thead>\n",
       "    <tr style=\"text-align: right;\">\n",
       "      <th></th>\n",
       "      <th>YEAR</th>\n",
       "      <th>TIME_PRECISION</th>\n",
       "      <th>INTER1</th>\n",
       "      <th>INTER2</th>\n",
       "      <th>INTERACTION</th>\n",
       "      <th>ISO</th>\n",
       "      <th>ADMIN3</th>\n",
       "      <th>LATITUDE</th>\n",
       "      <th>LONGITUDE</th>\n",
       "      <th>GEO_PRECISION</th>\n",
       "      <th>FATALITIES</th>\n",
       "      <th>TIMESTAMP</th>\n",
       "    </tr>\n",
       "  </thead>\n",
       "  <tbody>\n",
       "    <tr>\n",
       "      <th>count</th>\n",
       "      <td>56008.000000</td>\n",
       "      <td>56008.000000</td>\n",
       "      <td>56008.000000</td>\n",
       "      <td>56008.000000</td>\n",
       "      <td>56008.000000</td>\n",
       "      <td>56008.0</td>\n",
       "      <td>0.0</td>\n",
       "      <td>56008.000000</td>\n",
       "      <td>56008.000000</td>\n",
       "      <td>56008.000000</td>\n",
       "      <td>56008.000000</td>\n",
       "      <td>5.600800e+04</td>\n",
       "    </tr>\n",
       "    <tr>\n",
       "      <th>mean</th>\n",
       "      <td>2021.018301</td>\n",
       "      <td>1.015212</td>\n",
       "      <td>5.816865</td>\n",
       "      <td>0.412030</td>\n",
       "      <td>57.015391</td>\n",
       "      <td>840.0</td>\n",
       "      <td>NaN</td>\n",
       "      <td>38.361133</td>\n",
       "      <td>-92.193876</td>\n",
       "      <td>1.019354</td>\n",
       "      <td>0.006642</td>\n",
       "      <td>1.647879e+09</td>\n",
       "    </tr>\n",
       "    <tr>\n",
       "      <th>std</th>\n",
       "      <td>1.022662</td>\n",
       "      <td>0.126557</td>\n",
       "      <td>0.751482</td>\n",
       "      <td>1.482548</td>\n",
       "      <td>10.768870</td>\n",
       "      <td>0.0</td>\n",
       "      <td>NaN</td>\n",
       "      <td>5.105354</td>\n",
       "      <td>18.229624</td>\n",
       "      <td>0.162834</td>\n",
       "      <td>0.167936</td>\n",
       "      <td>2.868673e+07</td>\n",
       "    </tr>\n",
       "    <tr>\n",
       "      <th>min</th>\n",
       "      <td>2020.000000</td>\n",
       "      <td>1.000000</td>\n",
       "      <td>1.000000</td>\n",
       "      <td>0.000000</td>\n",
       "      <td>10.000000</td>\n",
       "      <td>840.0</td>\n",
       "      <td>NaN</td>\n",
       "      <td>19.443000</td>\n",
       "      <td>-166.534000</td>\n",
       "      <td>1.000000</td>\n",
       "      <td>0.000000</td>\n",
       "      <td>1.612546e+09</td>\n",
       "    </tr>\n",
       "    <tr>\n",
       "      <th>25%</th>\n",
       "      <td>2020.000000</td>\n",
       "      <td>1.000000</td>\n",
       "      <td>6.000000</td>\n",
       "      <td>0.000000</td>\n",
       "      <td>60.000000</td>\n",
       "      <td>840.0</td>\n",
       "      <td>NaN</td>\n",
       "      <td>34.770000</td>\n",
       "      <td>-106.651000</td>\n",
       "      <td>1.000000</td>\n",
       "      <td>0.000000</td>\n",
       "      <td>1.616538e+09</td>\n",
       "    </tr>\n",
       "    <tr>\n",
       "      <th>50%</th>\n",
       "      <td>2021.000000</td>\n",
       "      <td>1.000000</td>\n",
       "      <td>6.000000</td>\n",
       "      <td>0.000000</td>\n",
       "      <td>60.000000</td>\n",
       "      <td>840.0</td>\n",
       "      <td>NaN</td>\n",
       "      <td>39.196000</td>\n",
       "      <td>-85.977000</td>\n",
       "      <td>1.000000</td>\n",
       "      <td>0.000000</td>\n",
       "      <td>1.645566e+09</td>\n",
       "    </tr>\n",
       "    <tr>\n",
       "      <th>75%</th>\n",
       "      <td>2022.000000</td>\n",
       "      <td>1.000000</td>\n",
       "      <td>6.000000</td>\n",
       "      <td>0.000000</td>\n",
       "      <td>60.000000</td>\n",
       "      <td>840.0</td>\n",
       "      <td>NaN</td>\n",
       "      <td>41.821000</td>\n",
       "      <td>-77.045000</td>\n",
       "      <td>1.000000</td>\n",
       "      <td>0.000000</td>\n",
       "      <td>1.680634e+09</td>\n",
       "    </tr>\n",
       "    <tr>\n",
       "      <th>max</th>\n",
       "      <td>2023.000000</td>\n",
       "      <td>3.000000</td>\n",
       "      <td>8.000000</td>\n",
       "      <td>8.000000</td>\n",
       "      <td>80.000000</td>\n",
       "      <td>840.0</td>\n",
       "      <td>NaN</td>\n",
       "      <td>71.291000</td>\n",
       "      <td>-67.461000</td>\n",
       "      <td>3.000000</td>\n",
       "      <td>22.000000</td>\n",
       "      <td>1.686677e+09</td>\n",
       "    </tr>\n",
       "  </tbody>\n",
       "</table>\n",
       "</div>"
      ],
      "text/plain": [
       "               YEAR  TIME_PRECISION        INTER1        INTER2   INTERACTION  \\\n",
       "count  56008.000000    56008.000000  56008.000000  56008.000000  56008.000000   \n",
       "mean    2021.018301        1.015212      5.816865      0.412030     57.015391   \n",
       "std        1.022662        0.126557      0.751482      1.482548     10.768870   \n",
       "min     2020.000000        1.000000      1.000000      0.000000     10.000000   \n",
       "25%     2020.000000        1.000000      6.000000      0.000000     60.000000   \n",
       "50%     2021.000000        1.000000      6.000000      0.000000     60.000000   \n",
       "75%     2022.000000        1.000000      6.000000      0.000000     60.000000   \n",
       "max     2023.000000        3.000000      8.000000      8.000000     80.000000   \n",
       "\n",
       "           ISO  ADMIN3      LATITUDE     LONGITUDE  GEO_PRECISION  \\\n",
       "count  56008.0     0.0  56008.000000  56008.000000   56008.000000   \n",
       "mean     840.0     NaN     38.361133    -92.193876       1.019354   \n",
       "std        0.0     NaN      5.105354     18.229624       0.162834   \n",
       "min      840.0     NaN     19.443000   -166.534000       1.000000   \n",
       "25%      840.0     NaN     34.770000   -106.651000       1.000000   \n",
       "50%      840.0     NaN     39.196000    -85.977000       1.000000   \n",
       "75%      840.0     NaN     41.821000    -77.045000       1.000000   \n",
       "max      840.0     NaN     71.291000    -67.461000       3.000000   \n",
       "\n",
       "         FATALITIES     TIMESTAMP  \n",
       "count  56008.000000  5.600800e+04  \n",
       "mean       0.006642  1.647879e+09  \n",
       "std        0.167936  2.868673e+07  \n",
       "min        0.000000  1.612546e+09  \n",
       "25%        0.000000  1.616538e+09  \n",
       "50%        0.000000  1.645566e+09  \n",
       "75%        0.000000  1.680634e+09  \n",
       "max       22.000000  1.686677e+09  "
      ]
     },
     "execution_count": 5,
     "metadata": {},
     "output_type": "execute_result"
    }
   ],
   "source": [
    "df.describe()"
   ]
  },
  {
   "cell_type": "code",
   "execution_count": null,
   "id": "d3b4ee13",
   "metadata": {},
   "outputs": [],
   "source": []
  },
  {
   "cell_type": "code",
   "execution_count": 9,
   "id": "740dd773",
   "metadata": {},
   "outputs": [],
   "source": [
    "pd.options.display.max_colwidth = 3000"
   ]
  },
  {
   "cell_type": "code",
   "execution_count": null,
   "id": "a96acd58",
   "metadata": {},
   "outputs": [],
   "source": []
  },
  {
   "cell_type": "markdown",
   "id": "55f0f66c",
   "metadata": {},
   "source": [
    "# Step One Converting Crowd Size and Removing Nans--\n",
    "## Calling resulting datafram - df1"
   ]
  },
  {
   "cell_type": "code",
   "execution_count": 10,
   "id": "990d4d83",
   "metadata": {},
   "outputs": [],
   "source": [
    "def extract_crowd_size(tags):\n",
    "    # Check if tags is a string\n",
    "    if isinstance(tags, str):\n",
    "        # Split the tags string into individual tags\n",
    "        tags_list = tags.split(';')\n",
    "        \n",
    "        # Iterate through the tags\n",
    "        for tag in tags_list:\n",
    "            tag = tag.strip()\n",
    "            if tag.lower().startswith(\"crowd size\"):\n",
    "                return tag\n",
    "    # if no value in tag column, fill with \"no report\"\n",
    "    return 'crowd size=no report'"
   ]
  },
  {
   "cell_type": "code",
   "execution_count": 11,
   "id": "58452123",
   "metadata": {},
   "outputs": [],
   "source": [
    "df['crowd_size'] = df['TAGS'].apply(extract_crowd_size)"
   ]
  },
  {
   "cell_type": "code",
   "execution_count": 12,
   "id": "87dbc581",
   "metadata": {},
   "outputs": [
    {
     "data": {
      "text/plain": [
       "0"
      ]
     },
     "execution_count": 12,
     "metadata": {},
     "output_type": "execute_result"
    }
   ],
   "source": [
    "df['crowd_size'].isna().sum()"
   ]
  },
  {
   "cell_type": "code",
   "execution_count": 13,
   "id": "84ff606e",
   "metadata": {},
   "outputs": [
    {
     "name": "stdout",
     "output_type": "stream",
     "text": [
      "                  crowd_size  crowd_size_numerical\n",
      "0       crowd size=no report                   NaN\n",
      "1       crowd size=no report                   NaN\n",
      "2       crowd size=no report                   NaN\n",
      "3       crowd size=no report                   NaN\n",
      "4       crowd size=no report                   NaN\n",
      "...                      ...                   ...\n",
      "56003      crowd size=dozens                  24.0\n",
      "56004   crowd size=no report                   NaN\n",
      "56005   crowd size=no report                   NaN\n",
      "56006   crowd size=no report                   NaN\n",
      "56007  crowd size=roughly 30                   NaN\n",
      "\n",
      "[56008 rows x 2 columns]\n"
     ]
    }
   ],
   "source": [
    "\n",
    "\n",
    "# Define your custom mapping for the top 40 most frequently occurring values\n",
    "custom_mapping = {\n",
    "    'crowd size=no report': np.nan,\n",
    "    'crowd size=hundreds': 200,\n",
    "    'crowd size=dozens':24,\n",
    "    'crowd size=more than 100': 110,\n",
    "    'crowd size=about 100': 100,\n",
    "    'crowd size=about 50': 50,              \n",
    "    'crowd size=about 200': 200,             \n",
    "    'crowd size=about 30': 30,               \n",
    "    'crowd size=about 20': 20,               \n",
    "    'crowd size=thousands':2000, \n",
    "    'crowd size=about a dozen': 12,        \n",
    "    'crowd size=about 40':40,             \n",
    "    'crowd size=over 100': 115,\n",
    "    'crowd size=more than 50': 55,\n",
    "    'crowd size=several hundred': 300,\n",
    "    'crowd size=small': 10,   \n",
    "    'crowd size=about 150': 150, \n",
    "    'crowd size=more than 200': 210,\n",
    "    'crowd size=several dozen':48,\n",
    "    'crowd size=about two dozen':24,\n",
    "    'crowd size=about 60': 60,\n",
    "    'crowd size=about 300': 300,\n",
    "    'crowd size=a small group': 10,\n",
    "    'crowd size=around 100': 100,\n",
    "    'crowd size=more than a dozen':15,\n",
    "    'crowd size=several': 5,\n",
    "    'crowd size=nearly 100':95,\n",
    "    'crowd size=a few dozen':36,\n",
    "    'crowd size=about 75':75,\n",
    "    'crowd size=about 25':25,\n",
    "    'crowd size=around 50':50,\n",
    "    'crowd size=more than 300':305,\n",
    "    'crowd size=about 70':70,\n",
    "    'crowd size=about 15': 15,\n",
    "    'crowd size=around 200':200,\n",
    "    'crowd size=a few hundred': 300,\n",
    "    'crowd size=a group': np.nan,\n",
    "    'crowd size=more than 30': 35,\n",
    "    'crowd size=about 500': 500,\n",
    "    'crowd size=more than 1000':1020,\n",
    "    'crowd size=more than 150': 155,\n",
    "    'crowd size=over 200': 205,\n",
    "    'crowd size=nearly 200': 195,\n",
    "    'crowd size=at least 100': 105,\n",
    "    'crowd size=a handful': 5,\n",
    "    'crowd size=over 50': 55,\n",
    "    'crowd size=around 30': 30,\n",
    "    'crowd size=about 80': 80,\n",
    "    'crowd size=about 1000': 1000,\n",
    "    'crowd size=about 250': 250,\n",
    "    'crowd size=about 400': 400,\n",
    "    'crowd size=over 1000': 1010,\n",
    "}\n",
    "\n",
    "# Function to apply the custom mapping\n",
    "def map_crowd_size(crowd_size_string):\n",
    "    return custom_mapping.get(crowd_size_string, np.nan)\n",
    "\n",
    "# Applying the mapping to the crowd_size column\n",
    "df['crowd_size_numerical'] = df['crowd_size'].apply(map_crowd_size)\n",
    "\n",
    "# Display the DataFrame\n",
    "print(df[['crowd_size', 'crowd_size_numerical']])\n"
   ]
  },
  {
   "cell_type": "code",
   "execution_count": 16,
   "id": "27afdeca",
   "metadata": {},
   "outputs": [],
   "source": [
    "# crowd_size_F = list(df['crowd_size'])\n",
    "crowd_size_frequencies = df['crowd_size_numerical'].value_counts()"
   ]
  },
  {
   "cell_type": "code",
   "execution_count": 42,
   "id": "e2e39811",
   "metadata": {},
   "outputs": [],
   "source": [
    "df1 = df[df['crowd_size_numerical'].notna()].copy(deep = True)"
   ]
  },
  {
   "cell_type": "code",
   "execution_count": 43,
   "id": "677fffd3",
   "metadata": {},
   "outputs": [
    {
     "data": {
      "text/plain": [
       "(18476, 34)"
      ]
     },
     "execution_count": 43,
     "metadata": {},
     "output_type": "execute_result"
    }
   ],
   "source": [
    "df1.shape"
   ]
  },
  {
   "cell_type": "markdown",
   "id": "0dad670a",
   "metadata": {},
   "source": [
    "# Now doing the dataframe by imputing proportionally, without dropping the NaN's"
   ]
  },
  {
   "cell_type": "code",
   "execution_count": 93,
   "id": "7b6f3722",
   "metadata": {},
   "outputs": [],
   "source": [
    "#replace NaN's with unknown\n",
    "df.crowd_size_numerical = df.crowd_size_numerical.fillna('unknown')"
   ]
  },
  {
   "cell_type": "code",
   "execution_count": 94,
   "id": "3873f084",
   "metadata": {},
   "outputs": [],
   "source": [
    "# Assume df is your DataFrame and 'crowd_size' is your column of interest\n",
    "unknown_indices = df[df['crowd_size_numerical'] == 'unknown'].index\n",
    "\n",
    "# Filter out unknown values\n",
    "known_values_df = df[df['crowd_size_numerical'] != 'unknown']\n",
    "\n",
    "# Get distribution of known values\n",
    "value_distribution = known_values_df['crowd_size_numerical'].value_counts(normalize=True)\n",
    "\n",
    "# Generate random values according to distribution\n",
    "random_values = np.random.choice(value_distribution.index, \n",
    "                                 size=len(unknown_indices), \n",
    "                                 p=value_distribution.values)\n",
    "\n",
    "# Impute these random values in the DataFrame\n",
    "df.loc[unknown_indices, 'crowd_size_numerical'] = random_values"
   ]
  },
  {
   "cell_type": "code",
   "execution_count": 95,
   "id": "9ef5e5cd",
   "metadata": {},
   "outputs": [
    {
     "data": {
      "text/plain": [
       "200.0     12240\n",
       "24.0      10707\n",
       "100.0      3542\n",
       "110.0      3166\n",
       "50.0       2893\n",
       "300.0      1912\n",
       "30.0       1838\n",
       "10.0       1505\n",
       "20.0       1254\n",
       "2000.0     1240\n",
       "55.0       1233\n",
       "12.0       1168\n",
       "40.0       1099\n",
       "115.0      1090\n",
       "15.0        977\n",
       "5.0         863\n",
       "210.0       809\n",
       "150.0       790\n",
       "48.0        760\n",
       "60.0        703\n",
       "95.0        571\n",
       "36.0        547\n",
       "75.0        501\n",
       "25.0        443\n",
       "305.0       409\n",
       "70.0        390\n",
       "205.0       337\n",
       "1020.0      336\n",
       "500.0       329\n",
       "35.0        329\n",
       "155.0       321\n",
       "195.0       289\n",
       "105.0       286\n",
       "80.0        276\n",
       "1000.0      270\n",
       "250.0       239\n",
       "400.0       211\n",
       "1010.0      135\n",
       "Name: crowd_size_numerical, dtype: int64"
      ]
     },
     "execution_count": 95,
     "metadata": {},
     "output_type": "execute_result"
    }
   ],
   "source": [
    "df['crowd_size_numerical'].value_counts()"
   ]
  },
  {
   "cell_type": "markdown",
   "id": "005ead4e",
   "metadata": {},
   "source": [
    "# What counts as demonstration violence"
   ]
  },
  {
   "cell_type": "code",
   "execution_count": 21,
   "id": "9c374ee4",
   "metadata": {},
   "outputs": [
    {
     "data": {
      "text/plain": [
       "Protests                  18071\n",
       "Riots                       403\n",
       "Strategic developments        2\n",
       "Name: EVENT_TYPE, dtype: int64"
      ]
     },
     "execution_count": 21,
     "metadata": {},
     "output_type": "execute_result"
    }
   ],
   "source": [
    "df1['EVENT_TYPE'].value_counts()"
   ]
  },
  {
   "cell_type": "code",
   "execution_count": 27,
   "id": "33448ee9",
   "metadata": {},
   "outputs": [
    {
     "data": {
      "text/plain": [
       "10705                                                                                                                                                         Non-violent activity: On 19 June 2020, about 100 people, many of whom were armed, gathered in Nancy (Kentucky) to protect monuments from anticipated demonstrators. No demonstration actually occurred.\n",
       "12265    Non-violent activity: On 4 July 2020, about 200 people including members of the Pennsylvania Volunteer Militia, Boogaloo Boys, and Proud Boys gathered in Gettysburg (Pennsylvania) 'to protect the Civil War monuments and the nation's flag' after rumors of an 'antifa flag burning' spread on conservative information channels. No flag burners showed.\n",
       "Name: NOTES, dtype: object"
      ]
     },
     "execution_count": 27,
     "metadata": {},
     "output_type": "execute_result"
    }
   ],
   "source": [
    "df1.loc[df1['EVENT_TYPE']== 'Strategic developments'][\"NOTES\"].head(30)"
   ]
  },
  {
   "cell_type": "code",
   "execution_count": 22,
   "id": "be3721a3",
   "metadata": {},
   "outputs": [
    {
     "data": {
      "text/plain": [
       "Demonstrations                        18416\n",
       "Political violence; Demonstrations       51\n",
       "Political violence                        7\n",
       "Strategic developments                    2\n",
       "Name: DISORDER_TYPE, dtype: int64"
      ]
     },
     "execution_count": 22,
     "metadata": {},
     "output_type": "execute_result"
    }
   ],
   "source": [
    "df1['DISORDER_TYPE'].value_counts()"
   ]
  },
  {
   "cell_type": "code",
   "execution_count": 28,
   "id": "0330265a",
   "metadata": {},
   "outputs": [
    {
     "data": {
      "text/plain": [
       "2172                                                                                                                                                                                                                                                                                                                                                                                                                                                                          On 20 March 2020, about 300 inmates at the New Mexico Correctional Center in Grants (New Mexico) rioted after they were placed in lockdown in connection to the reported suicide of an inmate at the facility. According to reports, some of the inmates threw rocks at prison guards, causing damage and injuring one person, who was sent to the hospital. The prison guards used less-lethal bean bag rounds and paintball guns containing irritants to regain control.\n",
       "2372                                                                                                                                                                                                                                                                                                                                                                                                                                          On 7 April 2020, dozens of inmates attacked private prison guards from Akima Global Services at the Krome detention facility in Miami (Florida) in apparent reaction to ICE's refusal to test detainees for the novel coronavirus before introducing them into the prison population. The fighting caused a number of minor injuries and drew blood from inmates and guards. The Krome facility is directed by ICE officers and employs private guards from Akima Global Services. No fatalities reported.\n",
       "11271                                                                                                                On 23 June 2020, hundreds gathered in Milwaukee (Wisconsin) near the site of a police investigation into two missing girls at North 40th and West Lloyd Street. The crowd was a mix of neighbours, people expressing frustration with the police, and activists who'd marched in demonstrations earlier that day over racial justice. Violence broke out as people at the scene tried to take the investigation into their own hands by breaking into a residence related to the investigation and others expressed their grievances related to the police. Bricks were thrown at police, a residence and a vehicle were set on fire, and gunshots were reported. At least 3 people were shot, and 7 police officers and 1 firefighter were injured. None of the injuries were life-threatening but three people were hospitalized.\n",
       "20741    On 27 October 2020, hundreds of Dodgers fans rallied in Los Angeles - Central (California) in celebration of the baseball team's World Series victory. People turned violent when a dumpster was set on fire, various storefront windows were broken, and shops were looted. At least four stores were vandalized. At one point people surrounded a semi-truck, opened the trailer door and began stealing packages while others attempted to enter the cab. The Los Angeles Police Department responded by deploying its riot team that marched through the streets and fired stun grenades. In Echo Park, officers allegedly aimed weapons at a small group of 'press and community members.' Officers used non-lethal rounds on demonstrators. At least one press member was hit by a 'less lethal' round. Officers allege that people threw bottles at them. At least three officers sustained injuries and one police vehicle was damaged.\n",
       "22787                                                                                                                                                                                                                                                                                                                                                                                                                                                                                                                                                                                                                                                                                                             On 12 December 2020, Chris Hill of the III% Security Force and more than a dozen armed supporters assaulted four unarmed Antifa members in a parking garage in Atlanta (Georgia) after leaving a demonstration earlier that afternoon.\n",
       "25921                                                                                                                                                                                                                                                                                                                                                                                                                                                                           On 12 March 2021, police officers were swarmed by a large 'unruly' crowd of more than 200 mostly maskless people as they attempted to arrest a man in Miami (Florida). Officers deployed pepper balls and pepper spray to disperse the crowd and two officers were injured. Local police noted that spring break crowds have been more difficult to control amid the coronavirus pandemic, as Florida does not have mask mandates or other related regulations in place.\n",
       "46098                                                                                                                                                                                                                                                                                                                                                                                                                                                    On 31 July 2022, about 40 people confronted a tow truck escorted by police officers that were attempting to remove vehicles from the so-called 'Atlanta Forest' in Atlanta (Georgia) and threw rocks and bottles of water at them. The driver fled from the vehicle. Rioters then damaged the truck by slashing its tires and smashing its windows before disassembling it and setting it on fire. 'Stop Cop City' was spraypainted onto the truck's exterior. There were no reported injuries.\n",
       "Name: NOTES, dtype: object"
      ]
     },
     "execution_count": 28,
     "metadata": {},
     "output_type": "execute_result"
    }
   ],
   "source": [
    "df1.loc[df1['DISORDER_TYPE']== 'Political violence'][\"NOTES\"].head(30)"
   ]
  },
  {
   "cell_type": "code",
   "execution_count": 23,
   "id": "62f34948",
   "metadata": {},
   "outputs": [
    {
     "data": {
      "text/plain": [
       "Peaceful protest                      17600\n",
       "Protest with intervention               420\n",
       "Violent demonstration                   396\n",
       "Excessive force against protesters       51\n",
       "Mob violence                              7\n",
       "Other                                     2\n",
       "Name: SUB_EVENT_TYPE, dtype: int64"
      ]
     },
     "execution_count": 23,
     "metadata": {},
     "output_type": "execute_result"
    }
   ],
   "source": [
    "df1['SUB_EVENT_TYPE'].value_counts()"
   ]
  },
  {
   "cell_type": "code",
   "execution_count": 35,
   "id": "0179a70c",
   "metadata": {},
   "outputs": [
    {
     "data": {
      "text/plain": [
       "10705                                                                                                                                                         Non-violent activity: On 19 June 2020, about 100 people, many of whom were armed, gathered in Nancy (Kentucky) to protect monuments from anticipated demonstrators. No demonstration actually occurred.\n",
       "12265    Non-violent activity: On 4 July 2020, about 200 people including members of the Pennsylvania Volunteer Militia, Boogaloo Boys, and Proud Boys gathered in Gettysburg (Pennsylvania) 'to protect the Civil War monuments and the nation's flag' after rumors of an 'antifa flag burning' spread on conservative information channels. No flag burners showed.\n",
       "Name: NOTES, dtype: object"
      ]
     },
     "execution_count": 35,
     "metadata": {},
     "output_type": "execute_result"
    }
   ],
   "source": [
    "df1.loc[df1['SUB_EVENT_TYPE']== 'Other'][\"NOTES\"].head(30)"
   ]
  },
  {
   "cell_type": "code",
   "execution_count": 44,
   "id": "918242d1",
   "metadata": {},
   "outputs": [
    {
     "name": "stdout",
     "output_type": "stream",
     "text": [
      "         SUB_EVENT_TYPE  is_violent\n",
      "8      Peaceful protest           0\n",
      "9      Peaceful protest           0\n",
      "10     Peaceful protest           0\n",
      "11     Peaceful protest           0\n",
      "17     Peaceful protest           0\n",
      "...                 ...         ...\n",
      "55970  Peaceful protest           0\n",
      "55979  Peaceful protest           0\n",
      "55985  Peaceful protest           0\n",
      "55987  Peaceful protest           0\n",
      "56003  Peaceful protest           0\n",
      "\n",
      "[18476 rows x 2 columns]\n"
     ]
    }
   ],
   "source": [
    "# Creating my binary target\n",
    "def map_target(category):\n",
    "    # Non-violent categories\n",
    "    non_violent = ['Peaceful protest', 'Other']\n",
    "    \n",
    "    # Check if the category is in the non_violent list\n",
    "    if category in non_violent:\n",
    "        return 0\n",
    "    else:\n",
    "        return 1\n",
    "\n",
    "# Create new column 'is_violent' by applying the mapping function to the 'event_type' column\n",
    "df1['is_violent'] = df1['SUB_EVENT_TYPE'].apply(map_target)\n",
    "\n",
    "# Display the DataFrame\n",
    "print(df1[['SUB_EVENT_TYPE', 'is_violent']])"
   ]
  },
  {
   "cell_type": "code",
   "execution_count": null,
   "id": "91dd5531",
   "metadata": {},
   "outputs": [],
   "source": []
  },
  {
   "cell_type": "code",
   "execution_count": 45,
   "id": "6434fae8",
   "metadata": {},
   "outputs": [
    {
     "data": {
      "text/plain": [
       "0    17602\n",
       "1      874\n",
       "Name: is_violent, dtype: int64"
      ]
     },
     "execution_count": 45,
     "metadata": {},
     "output_type": "execute_result"
    }
   ],
   "source": [
    "df1['is_violent'].value_counts()"
   ]
  },
  {
   "cell_type": "code",
   "execution_count": null,
   "id": "d07c25a2",
   "metadata": {},
   "outputs": [],
   "source": []
  },
  {
   "cell_type": "markdown",
   "id": "b4f09d6b",
   "metadata": {},
   "source": [
    "# Convert to datetime and take out only 2022 and 2023"
   ]
  },
  {
   "cell_type": "code",
   "execution_count": null,
   "id": "3e019dfb",
   "metadata": {},
   "outputs": [],
   "source": [
    "#convert to release_date columnt to datetime\n",
    "tn_movie_budgets['release_date'] = pd.to_datetime(tn_movie_budgets['release_date'])\n",
    "#set index to datetime\n",
    "tn_movie_budgets.set_index('release_date', inplace=True)\n",
    "#slice out our timeframe\n",
    "recent_movie_budgets = deepcopy(tn_movie_budgets.sort_index().loc['01-01-2010':'12-31-2022'])\n",
    "recent_movie_budgets.reset_index(inplace = True)"
   ]
  },
  {
   "cell_type": "markdown",
   "id": "50f7bee8",
   "metadata": {},
   "source": [
    "# Convert the affiliated groups to lists"
   ]
  },
  {
   "cell_type": "code",
   "execution_count": 46,
   "id": "303a84b8",
   "metadata": {},
   "outputs": [],
   "source": [
    "df1['actor1_split'] = df1['ACTOR1'].str.split(\"; \")\n",
    "df1['assoc_actor_1_split'] = df1['ASSOC_ACTOR_1'].str.split(\"; \")\n",
    "df1['actor2_split'] = df1['ACTOR2'].str.split(\"; \")\n",
    "df1['assoc_actor_2_split'] = df1['ASSOC_ACTOR_2'].str.split(\"; \")"
   ]
  },
  {
   "cell_type": "code",
   "execution_count": 62,
   "id": "82382d5e",
   "metadata": {},
   "outputs": [
    {
     "name": "stdout",
     "output_type": "stream",
     "text": [
      "3680                                                                                                                                                                                                                                                                                                                                                                                                                                                       On 27 May 2020, several hundred people marched around the Civic Center in Los Angeles - Central (California) in support of Black Lives Matter and against police brutality and the death of George Floyd. Demonstrators blocked the freeway and surrounded a California Highway Patrol car, vandalizing it during the confrontation. One demonstrator was injured after falling off the CHP cruiser as it drove away. The injured demonstrator received medical attention.\n",
      "3745                                                                                                                                                                                                                                                                                                                                                                                                                                                                                                                                                                                                        On 28 May 2020, hundreds of people rioted in Saint Louis (Missouri) in support of the Black Lives Matter movement and against police brutality. Rioters blocked Interstate 44 downtown for almost three hours, started a fire in the road and broke into an Amazon Prime truck and a FedEx truck. Police made no arrests.\n",
      "3999                                                                                                                                                                                                                                                                                                                                                                                                                                                                                                                                                                                                                                                                                                                        On 30 May 2020, hundreds of people demonstrated in Rolla (Missouri) in support of the Black Lives Matter movement and against police brutality and the death of George Floyd. Rioters broke some windows.\n",
      "4149                                                                                                                                                                                                                                                                                                                                                                                                                                                                                                                                                                                                                                                                              On 30 May 2020, about 30 people demonstrated in Middletown (Ohio) in support of the Black Lives Matter movement and against police brutality and the death of George Floyd. Some demonstrators threw rocks at cars. No injuries or damage reported.\n",
      "4657                                                                                                                                                                                                                                                                                                                                                                                                                                                                                                                                                                        On 31 May 2020, about 150 people marched late in the evening in Bloomington (Illinois) in support of the Black Lives Matter movement and against police brutality and the death of George Floyd and Breonna Taylor. Over 100 incidents of vandalism and looting were reported overnight. This was seperate from the earlier, peaceful protest in the day.\n",
      "4662                                                                                                                                                                                                                                                                                                                                                                                                                                                                                                                                                                                                                                                          On 31 May 2020, hundreds of people demonstrated in DeKalb (Illinois) in support of the Black Lives Matter movement and against police brutality and the death of George Floyd. A group of demonstrators attempted to loot some stores, while others tried to stop them.\n",
      "4956                                                                                                                                                                                                                                                                                                                                                                                                                                                                                                                                                                                                                                                    On 31 May 2020, people demonstrated in Champaign (Illinois) in support of the Black Lives Matter movement and against police brutality and the death of George Floyd. The demonstration turned violent when over 50 people reportedly started rioting and looting businesses.\n",
      "4997     On 31 May 2020, about 100 people in cars staged a rally in a Walmart parking lot in Davenport (Iowa) in support of the Black Lives Matter movement and against police brutality and the death of George Floyd. The demonstration, which began peacefully, spread out and looting of multiple stores began to take place. At one point there was a gun battle in which two people were shot and killed and two others were wounded by gunfire, including a police officer. A 21-year old man was arrested later in June. He knew one of the victims and they had allegedly a dispute over Facebook posts. Among those shot dead was a woman who was leaving the demonstration. She was found near where police and the suspects had exchanged fire. It does not appear that the shootings had a direct link to the demonstrations, but were of a criminal nature. For this reason, fatalities were not included in the event.\n",
      "5070                                                                                                                                                                                                                                                                                                                                                                                                                                                                                                                                                                                                                       On 1 June 2020, hundreds gathered and shut down a freeway in downtown Durham (North Carolina) calling for an end to police brutality after the death of George Floyd, a black man killed by police. Demonstrators later spray-painted on the Durham Police Headquarters and caused damage to a restaurant.\n",
      "5174                                                                                                                                                                                                                                                                                                                                                                                                                                                                                                                                                                                      On 1 June 2020, hundreds of people gathered in downtown Montgomery (Alabama) to honour the death of George Floyd and in support of the Black Lives Matter movement and against police brutality. Rioters toppled the statue of Robert E. Lee, a Confederate general during the Civil War, in Montgomery (Alabama) during the demonstration.\n",
      "5456                                                                                                                                                                                                                                                                                                                                                                                                                                                                                                                                                                                                                                                               On 1 June 2020, hundreds of people marched in downtown in Iowa City (Iowa) in support of the Black Lives Matter movement and against police brutality and the death of George Floyd. The demonstration turned violent when people smashed a door of the City Hall.\n",
      "6311                                                                                                                                                                                                                                                                                                                                                                                                                                                                                                                                                                                                                                                                                                On 3 June 2020, a few hundred protesters demonstrated in Santa Cruz (California). A handful of them left BLM graffiti splashed across the local police headquarters and broke the windows of banks and shops. No arrest reported.\n",
      "6727                                                                                                                                                                                                                                                                                                                                                                                                                                                                                                                                                                                                                                                   On 4 June 2020, a group of several dozen people led by a Minnesota-based Native American activist pulled down a statue of the Italian explorer Christopher Columbus in Saint Paul (Minnesota) amid nationwide demonstrations against police brutality and racial inequalities.\n",
      "7574                                                                                                                                                                                                                                                                                                                                                                                                                                                                                                                                                                                                                                                                                  On 6 June 2020, about 40 people took part in a demonstration in Richmond (Virginia) in support of the Black Lives Matter movement and against police brutality. Demonstrators tore down the statue of Confederate Gen. Williams Carter Wickham.\n",
      "8937                                                                                                                                                                                                                                                                                                                                                                                                                                                                                                                                                                                                                                        On 9 June 2020, about 1000 people demonstrated in Richmond (Virginia) in support of the Black Lives Matter movement and against police brutality and the death of George Floyd. Several rioters vandalized, tore down, and threw the statue of Christopher Columbus into the park's lake.\n",
      "10603                                                                                                                                                                                                                                                                                                                                                                                                                                         On 19 June 2020, dozens of demonstrators toppled different statues of Serra, Francis Scott Key and President Ulysses S. Grant in San Francisco (California). The event took place in the wake of nationwide demonstrations in support of the Black Lives Matter movement and against police brutality and the death of George Floyd. On the same day, people rallied in San Francisco (California), honoring Juneteenth, which commemorates the ending of slavery in the United States.\n",
      "10767                                                                                                                                                                                                                                                                                                                                                                                                                                                                                                                                                                                                            On 19 June 2020, hundreds of demonstrators had marched through downtown Raleigh (North Carolina) against police brutality and to celebrate Juneteenth. As night fell, they pulled down two statues of Confederate soldiers that were part of a larger obelisk and dragged one of them to the Wake County courthouse.\n",
      "11326                                                                                                                                                                                                                                                                                                                                                                                                                                                                                                                                                                                                                       On 24 June 2020, more than 100 people staged a march in Pittsburgh (Pennsylvania) against a restaurant dress code that discriminates against Black individuals and Black members of the LGBT community. Charges were pressed against 2 people for making threats, riot, harassment and criminal mischief.\n",
      "11631                                                                                                                                                                                                                                                                                                                                                                                                                                                                                                                                                                                      On 27 June 2020, about 20 people broke off from an earlier demonstration near the capitol building in Denver (Colorado) that was held over unreported reasons, then set a fire on top of the pedestal of a statue that had been torn down during Black Lives Matter demonstration on 25 June. One person was arrested for suspected arson.\n",
      "11870                                                                                                                                                                                                                                                                     On 28 June 2020, about 300 pro-Black Lives Matter demonstrators marched in Saint Louis (Missouri) calling for the mayor to resign. The demonstrators veered onto a private street, leading to a white couple each pulling out a gun and pointing it at the demonstrators. The couple have been charged with the felony of unlawful use of weapon. Nine of the demonstrators were subsequently issued citations for trespassing for marching onto the couple's private property. The demonstrators later shot fireworks at the mayor's house. Three journalists reported that a small group of demonstrators verbally attacked them and pulled out an AK-47.\n",
      "12287                                                                                                                                                                                                                                                                                                                                                                                                                                                                                                                                                                                                                                                                     On 4 July 2020, hundreds of people demonstrated in Kansas City (Missouri), in support of the Black Lives Matter movement and against police brutality and the death of George Floyd. The rally turned violent when demonstrators burned a wagon and a flag.\n",
      "13621                                                                                                                                                                                                                                                                                                                                                                                                                                                                                                                                                                                                                         On 22 July 2020, about 150 people rioted in Seattle (Washington) as part of national unrest in support of the Black Lives Matter movement and against police brutality and the death of George Floyd. They gathered at Cal Anderson Park and smashed windows, lit fires, and looted stores in the area.\n",
      "13816                                                                                                                                                                                                                                                                                                                                                                                                                                                            On 25 July 2020, hundreds of BLM supporters marched in demonstration in Sacramento (California) demanding social justice and showing solidarity with demonstrators in Portland who have been in a standoff with federal agents for over a week. The demonstration turned violent when a group of rioters started vandalizing a police station. It was reported other demonstrations took place in the city over the day. Neither injuries nor arrests were reported.\n",
      "15343                                                                                                                                                                                                                                                                                                                                                                                                                                                                                                                                                                                                                     On 15 August 2020, dozens of people, including members of Antifa, marched through Williamsburg in New York - Brooklyn (New York), breaking windows in an Apple store and writing 'FTP (Fuck the Police)' and 'Murder Bezos' on a building near Whole Foods as well as 'Die Yuppie' on a different building.\n",
      "15436                                                                                                                                                                                                                                                                                                                                                                                                                                                                                                                                                                                                                           On 16 August 2020, about 100 demonstrators gathered in Waterbury (Connecticut) to call for the closure of a local motel. The demonstration turned violent when rioters climbed onto the roof of the motel, damaged its electronic billboard, broke windows, and damaged property inside the building.\n",
      "15510                                                                                                                                                                                                                                                                                                                                                                                                                                                                                                                                                                                                                                                                                                                                                      On 17 August 2020, dozens of people rioted in New York - Brooklyn (New York), damaging at least two stores by breaking windows and spraying anti-police graffiti on walls.\n",
      "16640                                                                                                                                                                                                                                                                                                                                                                                                                                                                                                                                                                                                                                 On 29 August 2020, hundreds of people demonstrated in Durham (North Carolina) to demand justice for Jacob Blake, a Black man killed by police in Wisconsin, and in support of BLM and against police violence. Some demonstrators vandalized buildings and broke the windows of the Courthouse.\n",
      "17124                                                                                                                                                                                                                                                                                                                                                                                                                                                 On 4 September 2020, about 60 people including mostly indigenous demonstrators gathered on the North Shore in Wainiha (Hawaii) to oppose the religious Love Has Won nonprofit whose leader claims to be the reincarnation of Hawaiian deity Pele. Demonstrators lit three bonfires as a form of purification while police watched from afar. The demonstration turned violent overnight when a firework was set off and glass was shattered. Private property was also damaged.\n",
      "17621                                                                                                                                                                                                                                                                                                                                                                                                On 12 September 2020, hundreds of people gathered in Rochester (New York) in support of the Black Lives Matter movement. The demonstration turn violent at night as they began throwing bottles, eggs, and rocks at police. Police fired back with pepper balls and used pepper-spray and sound cannon. Police claimed that there were agitators wearing helmets, makeshift armor and carrying shields who attempted to infiltrate the demonstration. At least one officer was injured, and several demonstrators were arrested.\n",
      "18352                                                                                                                                                                                                                                                                                                                                                                                                                                                                                                                                                  On 23 September 2020, about 100 people blocked a roadway, damaged a vehicle, and threw objects including scooters, signs, and cones in Charlotte (North Carolina) during a demonstration in reaction to the grand jury decision in Breonna Taylor's case, a Black woman who was killed by police. The CMPD claimed there were no arrests or injuries during the demonstration.\n",
      "Name: NOTES, dtype: object\n"
     ]
    }
   ],
   "source": [
    "filtered_notes_50 = df1.loc[(df1['is_violent'] == 1) & (df1['INTERACTION'] == 50), \"NOTES\"]\n",
    "\n",
    "# Display the first 30 rows of the filtered data\n",
    "print(filtered_notes_50.head(30))"
   ]
  },
  {
   "cell_type": "code",
   "execution_count": 63,
   "id": "6d28642a",
   "metadata": {},
   "outputs": [
    {
     "name": "stdout",
     "output_type": "stream",
     "text": [
      "6477                                                                                                                                                                                                                                                                                                                                                                                                                                                                                                                                                                                                                                                                                                                                                                                                                                                                                                                                                                                                                                                                                                                                                                                                                                                                                                                         On 3 June 2020, in Sacramento (California), hundreds of protesters gathered at the Cesar Chavez Plaza in support of the Black Lives Matter movement. Associated demonstrations took place across the city during that day, and counter-protesters also assembled and clashed with demonstrators. Three people were arrested and two officers were injured.\n",
      "12949                                                                                                                                                                                                                                                                                                                                                                                                                                                                                                                                                                                                                                                                                                                                                                                                                                                                                                                                                                                                                                                         On 12 July 2020, an unreported number of people staged a 'Back the Blue' rally in Crocheron Park in Bayside in New York - Queens (New York). About 100 people counter-demonstrated in support of the Black Lives Matter movement, against police brutality, and against the death of George Floyd. During the demonstration, demonstrators engaged in verbal and physical confrontations. Back the Blue demonstrators reportedly assaulted a BLM supporter while BLM demonstrators reportedly threw eggs at the police and pro-police demonstrators. Various other minor clashes were reported. Two people were arrested.\n",
      "13091                                                                                                                                                                                                                                                                                                                                                                                                                                                                                                                                                                                                                                                                                                                                                                                                                                                                                                                                                                                                                                                                                                                                                                                                                                                                                                                                                                                          On 14 July 2020, about 15 people staged a rally in Woodbridge (Virginia) calling to defund the police. One passer-by shouted at a female demonstrator, after which a fight broke out. It remains unclear who initiated the fight, but 4 people were arrested and later released on bail.\n",
      "13579                                                                                                                                                                                                                                                                                                                                                                                                                                                                                                                                                                                                                                                                                                                                                                                                                                                                                                                                                                                                                                                                                                                                                                       On 21 July 2020, hundreds of Armenian people held a demonstration in Los Angeles - Westside (California), outside the Azerbaijani consulate, to condemn rampant tensions between Azerbaijani and Armenian forces in the Armenian Tavush province. A group of Azerbaijani counter demonstrators was present at the site, eventually clashing with a group of Armenians. Three people and police officer were injured, and one person was arrested. Officials are investigating the incident as a hate crime.\n",
      "13585                                                                                                                                                                                                                                                                                                                                                                                                                                                                                                                                                                                                                                                                                                                                                                                                                                                                                                                                                                                   On 21 July 2020, hundreds of people organized by the Armenian Youth Federation marched to the Azerbaijani Consulate in Brentwood (California) against the Azerbaijani government and the conflict over the disputed Nagorno-Karabakh region. A 'much smaller' group of Azeri people counter demonstrated. Verbal altercations ensued and police responded. Allegedly, an Azeri demonstrator 'knocked out' an Armenian demonstrator by hitting her with a flagpole. Afterwards, multiple physical altercations occurred. Three people were hospitalized with non-life-threatening injuries from being 'punched or kicked.' A total of seven people were injured, five of whom were hospitalized.\n",
      "14900                                                                                                                                                                                                                                                                                                                                                                                                                                                                                                                                                                                                                                                                                                                                                                                                                                                                                                                                                                                                                                                                                                                                                                                                                                                                                                                                                                                                                                                    On 8 August 2020, hundreds of people staged a 'Back the Blue' demonstration in Fort Collins (Colorado), in support of the police. A group of counter-demonstrators turned up, fights broke out and three people were arrested.\n",
      "15402                                                                                                                                                                                                                                                                                                                                                                                                                                                                                                                                                                                                                                 On 15 August 2020, several dozen members of the far-right III%ers groups (Georgia Security Force III% and III% American Brotherhood of Patriots), many armed and carrying Confederate battle flags, demonstrated in Stone Mountain (Georgia) in support of keeping Confederate symbols in the city and to show their support for President Trump. Anti-racist and antifa demonstrators held a counter demonstration, organized by an Atlanta-based frontline organization working to end racism, FLOWER. Other groups, including NAACP, but also far-left anarchists and socialists, some of them heavily armed, also participated at the demonstration. Many of them wore Black Lives Matter t-shirts. After hours of shouting, and the burning of a Confederate flag, the event devolved into scuffles and small-scale fist fights and pepper spraying (amongst demonstrators). Police backed by a SWAT team and the Georgia National Guard intervened and dispersed the demonstrators from both side. Some demonstrators were lightly injured.\n",
      "15406                                                                                                                                                                                                                                                                                                                                                                                                                                                                                                                                                                                                                                                                                                                                                                                                                                                                                                                                                                                                                                                                                                                                      On 15 August 2020, during the afternoon about 30 right-wing demonstrators, including members of Patriot Prayer, staged a pro-police rally in Portland - Downtown (Oregon) in support of the local police and against anti-fascists. A group of about 30 Black Lives Matter counter-demonstrators turned up. Minor fights broke out, and one pro-police demonstrator fired a gun twice towards the counter-demonstrators. Another pro-police demonstrator threw a pipe bomb towards counter-demonstrators. There were no reports of injuries.\n",
      "16003                                                                                                                                                                                                                                                                                                                                                                                                                                                                                                                                                                                                                                                                                                                                                                                                                                                                                                                                                                                                                                                                   On 22 August 2020, about 200 demonstrators, including conservative candidates, staged a 'Freedom Rally' in Beverly Gardens Park in Beverly Hills (California) in support of law enforcement. Several dozen counter-demonstrators were on the scene in support of the Black Lives Matter movement and against police brutality and the death of George Floyd. The demonstration turned violent when people from the two groups began shoving and punching each other. Police intervened and declared the demonstration an 'unlawful assembly,' ordering people to disperse. One person was arrested for battery.\n",
      "16087                                                                                                                                                                                                                                                                                                                                                                                                                                                                                                                                                                                                                                                                                                                                                                                                                                                                                                                                                                                                                                                                                                                                                                                                                                                                                                                                                                                            On 22 August 2020, hundreds of people demonstrated in Bloomington (Indiana), both in support of the Back the Blue movement, and in support of the Black Lives Matter movement. Demonstrators clashed in the streets, and at least three people were injured. No arrests were reported.\n",
      "16126                                                                                                                                                                                                                                                                                                  On 22 August 2020, a group of more than 100 far-right activists, including Proud Boys and armed militia members, staged a 'Back the Blue' rally in support of law enforcement and President Trump in front of the Justice Center in Portland - Downtown (Oregon). People carrying shields with references to the QAnon conspiracy theory were also present. Right-wing demonstrators were armed with paintball guns, metal rods, aluminum bats, fireworks, pepper spray, rifles and handguns. More than 200 Antifa and Black Lives Matter supporters held a counter demonstration, some of them had fireworks and bottles filled with chemical solutions. The two groups engaged in tense, face-to-face confrontations, pushing, punching, kicking and throwing objects at each other. Some pro-police demonstrators fired paintball guns and deployed pepper spray on counterdemonstrators, and one was filmed pointing a gun. A member of the Proud Boys assaulted a journalist, breaking his finger with a baton. A journalist also reported being shot with paintballs by 'right folks' and maced. The journalist claims Proud Boys were targeting press. Police were present at the scene but did not intervene to stop the fighting, indicating in a statement released later that those involved had 'willingly' engaged, and that police forces were stretched too thin.\n",
      "17384                                                                                                                                                                                                                                                                                                                                                                                                                             On 7 September 2020, a small group of people rallied around the state Capitol in Salem (Oregon) in support of the Black Lives Matter movement. One pro-BLM demonstrator carried a paintball gun and another carried a bat. Meanwhile, more than 100 Proud Boys, Patriot Prayer members, QAnon adherents, demonstrators carrying various flags including thin blue line flags, and demonstrators armed with rifles, batons, and tear gas staged a pro-Trump rally. A small group of the Proud Boys had caravanned up from a pro-Trump demonstration in Oregon City that officially ended in Woodburn earlier in the day. Some of the pro-Trump group rushed pro-BLM demonstrators while firing paintball guns at them and injuring several. Some pro-BLM demonstrators responded by firing paintballs and macing a Proud Boy. One pro-BLM demonstrator was beaten by Proud Boys when they rushed him, leading to the arrest of two Proud Boys by police, who later released them. A naked bystander was maced while a pro-Trump supporter called him 'another Joe Biden pedophile.' A pro-Trump demonstrator also fired paintballs at a journalist who demonstrators claim watched a Patriot Prayer demonstrator die in Portland, Oregon on 29 August.\n",
      "19746                                                                                                                                                                                                                                                                                                                                                                                                                                                                                                                                                                                                                                                                                                                                                                                                                                                                                                                                                                                                                                                                                                                                                                                                                                                                     On 11 October 2020, about 60 people gathered for a demonstration in Portland - Downtown (Oregon) in support of President Trump and the police. Counter demonstrators also showed up and confronted the group. Each side threw objects, while the Trump supporters were armed with firearms, paintball air guns, and pepper spray canisters. Trump supporters later fired paintballs at counter-demonstrators.\n",
      "21535                                                                                                                                                                                                                                                                                                                                                                                                                                                                                                                                                                                                                                                                                                                                                                                                                                                                                                                                                                                                                                                                                                                                                        On 7 November 2020, a 'stand with Trump' demonstration, organized by GOP officials and featuring US Representative Kelly Armstrong as a speaker, was held in Bismarck (North Dakota), as about 300 demonstrators showed support for Donald Trump and claimed that election results were fraudulent. A handful of pro-Black Lives Matter demonstrators were also present - they interrupted by chanting 'Biden 2020.' A brawl broke out leaving several men with minor cuts and bloody noses, but no arrests were reported.\n",
      "21799                                                                                                                                                                                                                                                                                                                                         On 14 November 2020, thousands of people held a 'Million MAGA March' and 'Stop the Steal' rally in Washington DC (District of Columbia) in support of President Trump and his allegations of voter fraud in the presidential election. The Proud Boys, Oath Keepers, Boogaloo Boys, Three Percenters (III%), American Guard and QAnon were also part of the march. 300 or so counter-demonstrators including people with Refuse Fascism and Antifa gathered to rally against President Trump and to show support for President-Elect Biden and the Black Lives Matter movement. Following an initially peaceful 'Stop the Steal' march, people including Proud Boys, Oath Keepers, and Three Percenters (III%) began rioting and fighting with other demonstrators. The two opposing groups engaged in fist fights and some people set off fireworks and sprayed irritants. Others used clubs and launched projectiles. A Trump supporter drove through the crowd with his car, but no one was injured. Multiple people were stabbed, including one reporter. One person was stabbed and taken to the hospital with serious injuries, but no information is available about the victim or the perpetrator. Four officers were also injured. Police attempted to disperse demonstrators with pepper spray and arrested at least 21 people.\n",
      "21822                                                                                                                                                                                                                                                                                                                                                                                                                                                                                                                                                                                                                                                                                                                                                                                                                                                                                                                                                                                                                                                                                           On 14 November 2020, hundreds of people rallied in Sacramento (California) in support of President Trump, a recount of the 2020 presidential election, and to demand the recalling of Governor Newsom. A number of Asian Americans and Proud Boys members attended. An unreported number of Antifa counter-demonstrators rallied against the Proud Boys. An altercation between Antifa demonstrators and some Proud Boys occurred. Allegedly, a Proud Boys member used 'bear spray' against Antifa demonstrators. At least two people were arrested. No serious injuries were reported.\n",
      "22511                                                                                                                                                                                                                                                                                                                                                              On 5 December 2020, more than 100 Antifa activists marched from Freemont Park towards the Capitol in Sacramento (California), demonstrating against the Proud Boys and law enforcement. An unreported number of President Trump supporters including the Proud Boys gathered outside the California State Capitol in support of President Trump and his unfounded allegations of voter fraud. Approximately 150 police officers stood between the two groups. Some Antifa demonstrators attempted to remove a barrier, which allegedly led to police firing 'projectile weapons at them at point-blank range.' Demonstrators with both groups allegedly threw fireworks, glass bottles, and liquids at each other. Some Antifa demonstrators reportedly vandalized cars in the area. A group of Antifa demonstrators followed several pro-Trump demonstrators into Capitol Park where Antifa demonstrators allegedly instigated a physical confrontation using batons and bottles against a man and woman. Both the man and woman were pro-Trump demonstrators and allegedly sprayed mace in response. Other Antifa demonstrators attempted to pull the initial perpetrators away from the altercation. Police reported that they used pepper ball irritants during the demonstration and that no arrests were made.\n",
      "22776                                                                                                                                                                                                                                                                        On 12 December 2020, following a 'Million MAGA March' rally earlier in the day in support of President Trump and his allegations of voter fraud during the presidential election, members of the Proud Boys clashed with counter demonstrators supporting BLM, including members of Antifa, in Washington DC - Northwest (District of Columbia). Fights broke out between the two groups in several areas of the city. Pro-Trump demonstrators removed a BLM flag from outside the Asbury United Methodist Church and burned the flag. Police reported that three other churches were vandalized by the pro-Trump supporters. The vandalism incidents are being treated as hate crimes. People with BLM shot fireworks at the Trump demonstrators. Demonstrators also clashed with the police and hurled smoke bombs and water bottles at them. Police pepper sprayed demonstrators to disperse them. During an incident outside a bar dozens of pro-Trump supporters including members of Proud Boys punched and kicked a Black man in dark clothes. During the assault, the man reportedly produced a knife and stabbed the assailants, leaving four people with non life-threatening injuries. He was initially charged for the stabbings, but the police ultimately dropped the charges. A total of 33 people were arrested. A total of 8 police officers were also injured during the demonstrations.\n",
      "23460                                                                                                                                                                                                                                                                                                                                                                                                                                                                                                                                                                                                                                                                                                                                                                                                                                                                                                                                                                                                                                                                                                                                                                                                          On 6 January 2021, about 250 people, including members of the Proud Boys and Cowboys for Trump, staged a 'Stop the Steal' vehicle caravan rally in Santa Fe (New Mexico) in support of President Trump and against the 2020 presidential election results. Counter-demonstrators were present to support gay pride. A physical altercation occurred between the two groups. Police officers intervened. Police evacuated the Roundhouse and courthouses as a precaution.\n",
      "23500                                                                                                                                                                                                                                                                                                                                                                                                                                                                                                                                                                                                                                                                                                                                                                                                                                                                                                                                                                                                                                                                                                         On 6 January 2021, hundreds of people including members of the Proud Boys and Trump supporters, some carrying weapons including firearms, gathered for a 'Stop the Steal' rally near the Statehouse in Columbus (Ohio) to demonstrate against the congressional certification of Democratic President-Elect Joe Biden. About 10 counter demonstrators, some supporting BLM, were present. Two fights between the groups broke out with demonstrators throwing punches and using batons. Police were on the scene and helped break up fights but did not make any arrests.\n",
      "23526                                                                                                                                                                                                                                                                                                                                       On 6 January 2021, about 200 people staged a 'Stop the Steal' and 'Freedom Protest' rally at City Hall and police headquarters in Los Angeles - Central (California) in support of Donald Trump. 15 organizations including the Proud Boys put together the event. Demonstrators caravanned to Los Angeles from seven cities and about 50 people came from Pasadena. An unreported number of counter demonstrators, many affiliated with Refuse Fascism, were also present. Physical altercations occurred between the two groups and at least one counter demonstrator was maced in the face by an unknown party. Proud Boys also surrounded, hit, and chased a journalist. The journalist claimed the members of the Proud Boys were armed, and video footage appeared to show the outline of firearms in their pockets. A Black woman who was passing by the demonstrations was followed and encircled by Pro-Trump demonstrators who allegedly used racial slurs against her and physically assaulted her with their fists and pepper spray. One demonstrator also stole her wig. Another Pro-Trump demonstrator physically removed the civilian from the crowd as a 'good Samaritan' act. Officers at the scene did not intervene, but later filed hate crime and battery charges for the incident. At least six people were arrested.\n",
      "25652                                                                                                                                                                                                                                                                                                                                                                                                                                                                                                                                                                                                                                                                                                                                                                                                                                                                                                                                                                                                                                                                                                                                                                                                                       On 6 March 2021, people and supporters of the Black Lives Matter movement demonstrated in Smithtown (New York) against the flying of the thin blue flag at the Smithtown Fire Department. Several dozen Blue Lives Matter counter-demonstrators gathered in support of the thin blue flag. At least two violent confrontations between the groups were reported, with at least one person from each side being arrested. There were no reports on injuries.\n",
      "29321                                                                                                                                                                                                                                                                                                                                                                                                                                                                                                                                                                                                                                                                                                                                                                                                                                                                                      On 11 May 2021, a pro-Palestinian march was carried out by hundreds of people including members of New York's Palestinian and Muslim communities and members of Jewish Voice for Peace from the Israeli consulate through Times Square and to Columbus Circle in New York - Manhattan (New York) against evictions of families in Sheikh Jarrah in East Jerusalem and to support self-determination for Palestinians. Another group which included members of New York's Jewish and Israeli communities conducted a pro-Israel demonstration in support of the Israeli government. The event was largely peaceful, but some members in both groups fought each other, with one pro-Israeli demonstrator being injured. It was unclear how he sustained his injuries and no one was arrested.\n",
      "31077                                                                                                                                                                                                                                                                                                                                                                                                                                                       On 18 June 2021, several dozen antifa members gathered for a so-called 'Antifa-BLM Summit' in Denver (Colorado) in support of the Black Lives Matter movement and to express their opposition to the 'far right' political agenda. They gathered outside the Hyatt Hotel where The Colorado Christian University Centennial Institute's 2021 Western Conservative Summit was being held. The leftist group blocked traffic, threw a bottle at a car, brawled with passerby, and got into shouting matches with others. Some members of Proud Boys showed up and had a physical scuffle with the demonstrators. After the participants of the conservative summit left, hundreds of racist flyers with swastikas were found in the vicinity. The 'Antifa-BLM Summit' was organized by the Denver Communists, Front Range Mutual Aid Network, WITCH Denver, Front Range Community Defense Collective, Anon Resistance Movements, Anti-Repression Colorado, Denver Action Network - an anarchist group unaffiliated with the National Action Network. Armed members of the far-right FEC United and the United Armed Defense Force provided security for the conservative summit and stood opposite the leftist demonstrators.\n",
      "32735                                                                                                                                                                                                                                                                                                                                                                                                                                                                                                                                                                                               On 7 August 2021, more than 50 people, including members of the Proud Boys, gathered for a Christian demonstration in Portland - Downtown (Oregon) against 'the gay agenda' and access to abortion. The demonstration was led by an anti-LGBT pastor. Dozens of counter-demonstrators, including Antifa and people dressed in black bloc, threw smoke grenades and damaged the group's audio equipment. The demonstrators tried to relocate elsewhere in the park, but the counter-demonstrators followed. Once the event was concluded, demonstrators armed with paintball guns, batons and other weapons standing guard at the event clashed with counter-demonstrators. Demonstrators fired paintball guns and counter-demonstrators used pepper spray. A counter-demonstrator and bystander reported being shot in the face with paintballs. The bystander claimed that, prior to being shot with a paintball, an individual armed with an M16 rifle aimed the gun at his face before another person (who was in the same vehicle as the armed individual) deterred the gunman.\n",
      "32992                                                                                                                                                                                                                                                                                                                                                                                                                                                                                                                                                                                                                                                                                                                                                                          On 14 August 2021, several hundred people including Proud Boys staged a 'medical freedom' rally near City Hall in Los Angeles - Central (California) against coronavirus vaccine and mask mandates. Some demonstrators wore apparel supporting former President Donald Trump and some demonstrators also rallied in support of the Back the Blue movement and law enforcement. A few dozen counter-demonstrators staged a 'No Safe Space For Fascists' rally in support of mandatory coronavirus vaccines. A physical altercation broke out between the two groups. Two people were stabbed, one with the larger group who was hospitalized with 'a lacerated heart and punctured lung' and other who sustained less serious wounds. Two journalists were physically assaulted by 'medical freedom' demonstrators including Proud Boys. One antifa demonstrator was arrested for stabbing demonstrators.\n",
      "34108                                                                                                                                                                                                                                                                                                                                                                                                                                                                                                                                                                                                                                                                                                                                                                                                                                                                                                                                                                                                                                                                             On 15 September 2021, about 25 people held a 'Back the Blue' rally in West Roxbury in Boston (Massachusetts) to express support for law enforcement and rally against the Biden administration and coronavirus restrictions. About 25 people counter-demonstrated the event and expressed support for the Black Lives Movement and defunding the Boston Police Department. Police were present at the event as demonstrators engaged in physical altercations. One pro-police demonstrator allegedly hit several Black Lives Matter demonstrators with a flag pole. A couple of fist fights followed.\n",
      "38130                                                                                                                                                                                                                                                                                                                                                                                                                                                                                                                                                                                                                                                                                                                                                                                                                                                                                                                                                                                                                                                           On 29 January 2022, about 15 members of the National Socialist Movement gathered in Orlando (Florida) to demonstrate support for Nazism - demonstrators waved multiple flags with Swastikas, performed Nazi salutes, chanted 'white power,' 'heil Hitler,' and antisemitic slogans and slurs. Some demonstrators held signs with the phrase 'Let's Go Brandon' (a slogan against President Biden). Video footage shows an NSM member punching an unidentified man, who a witness claimed got out of his car and pushed an NSM member. 25 counter-demonstrators were present and threw stones and eggs at demonstrators.\n",
      "48692    On 23 October 2022, dozens of people, including Christian groups with signs reading 'Antifa Protects Pedophiles,' Proud Boys, memers of Rose City Nationalists, and others who performed Nazi salutes, gathered for a demonstration outside Old Nick's Pub in Eugene (Oregon) during a 'Drag Queen Brunch Story Hour' to demonstrate against 'pedophiles,' 'child abuse,' and LGBT+ rights. Police stated that some of the anti-LGBT+ demonstrators were armed. At least one of the demonstrators was immediately identified as holding a paintball gun. Another group of hundreds of people, including members of the LGBT+ community and armed anti-fascists, who held a banner reading 'Protect Trans Youth,' gathered in support of transgender rights. Anti-LGBT+ demonstrators attempted to enter the event without purchasing tickets, and began to throw rocks after they were refused entry. Police instructed the anti-LGBT+ group to move away from the area. As the anti-LGBT+ demonstrators backed slowly away from the event, pro-LGBT+ counter-demonstrators pushed forward. Video appeared to show an anti-fascist roughly pushing an individual to the ground. As the pro-LGBT+ counter-demonstrators continued to push forward, chanting 'move back,' an anti-LGBT+ demonstrator sprayed mace into the air, leading to fighting between the groups. Anti-LGBT+ demonstrators shot paintball guns, used mace, and threw smoke bombs. The pro-LGBT+ crowd, meanwhile, threw rocks. One man was sent to the hospital with injuries that were not immediately clear, and at least 1 journalist was maced by the anti-LGBT+ demonstrators during the interaction.\n",
      "48727                                                                                                                                                                                                                                                                                                                                                                                                                                                                                                                         On 24 October 2022, hundreds of students demonstrated outside of the Thomas Building on the Pennsylvania State University campus in State College (Pennsylvania) in opposition to an event being hosted by the University which featured the founder of the Proud Boys, Gavin McInnes. Among the demonstrators were members of the Penn State student anti-Fascists and supporters of the Black Lives Matter movement. The demonstration was organized by SCDS: Student Committee for Defense and Solidarity. A group of Proud Boys was also present to counter the student demonstrators. At some point during the demonstration, a student was arrested after he managed to move from the crowd of demonstrators to behind horse-mounted officers, 'caused a horse to react,' and refused to return to the crowd. The event was later canceled due to 'escalating violence.' In one instance, a member of the Proud Boys fought with a demonstrator in an incident that the Proud Boy initiated. In another instance, a pro-event counter-demonstrator affiliated with White Lives Matter sprayed mace at about a dozen demonstrators and a journalist.\n",
      "Name: NOTES, dtype: object\n"
     ]
    }
   ],
   "source": [
    "filtered_notes_55 = df1.loc[(df1['is_violent'] == 1) & (df1['INTERACTION'] == 55), \"NOTES\"]\n",
    "\n",
    "# Display the first 30 rows of the filtered data\n",
    "print(filtered_notes_55.head(30))"
   ]
  },
  {
   "cell_type": "code",
   "execution_count": 65,
   "id": "0d2aa643",
   "metadata": {},
   "outputs": [
    {
     "name": "stdout",
     "output_type": "stream",
     "text": [
      "5465                                                                                                                                                                                                                                                                                                                                                                                                                                                                                                                                                                                                                                                                                                                                                                                                                                                                                                                  On 1 June 2020, about 200 people staged a march in Stafford (Virginia) in support of the Black Lives Matter movement and against police brutality and the death of George Floyd. Some people blocked traffic on a bridge. A man broke a car window and 2 passengers identified as a child and an adult were injured by the broken glass. The man was arrested the following day.\n",
      "11076                                                                                                                                                                                                                                                                                                                                                                                                                                                                                                                                                                                                                                                                                                                                            On 20 June 2020, about 100 people gathered in Santa Rosa (California) in support of the Black Lives Matter movement and against police brutality and the death of George Floyd. A female nurse was reportedly punched and her car was vandalized after she encountered the group. Demonstrators alleged she drove through the crowd purposefully, although this was contradicted by video of the incident. Demonstrators claimed that a teenager on a bicycle was injured by the driver but 'no victims have come forward.' No arrests were reported.\n",
      "11090                                                                                                                                                                                                                                                                        On 20 June 2020, about 500 demonstrators, many of whom were heavily armed, gathered in front of a fast-food restaurant in Atlanta (Georgia) where Rayshard Brooks was shot and killed on 12 June 2020. During the demonstration, shots were fired nearby, and the crowd cleared to about 50 people. It is unclear who fired the shots or if anyone was injured in the incident. The heavily armed group that remained attacked two people in a car along the street - reaching inside the car, slapping the driver, and breaking a window with a rock. The two people in the car were injured. Those in the car were believed to be driving to a second location when the attack began. It is not clear if the assailants were demonstrating beforehand. A journalist who was present was also approached by the armed group and was repeatedly punched in the head after refusing to hand over his phone. The journalist had lacerations and severe bruising on his face and had to have a cut above his eye glued shut.\n",
      "12692                                                                                                                                                                                                                                                                                                                                                                                                                                                                                                                      On 9 July 2020, dozens of people camped overnight in front of City Hall in Saint Louis (Missouri) to push for the resignation of the mayor, who publicly read the names and addresses of police reform demonstrators. The city's Public Safety Director claims that two city-employed tow truck drivers were assaulted by demonstrators, saying one driver was hit in the face with a rifle and the other was punched. Police are looking to arrest two suspects. Demonstrators disputed this version of events by saying that their intervention was non-violent, and that only one individual was armed. One arrest was made on the same day regarding the incident. In addition, a demonstrator at the event reportedly attacked another demonstrator, causing injuries.\n",
      "12950                                                                                                                                                                                                                                                                                                                                                                                                                                                                                                                                                                                                                                                                                                                                                                                                                                                                                                                On 12 July 2020, around 50 demonstrators staged an 'Occupy City Hall' demonstration and camped at the City Hall Park in New York - Manhattan (New York) to demand a cut in the NYPD budget and to show their support for the Black Lives Matter movement in the wake of the death of George Floyd. One demonstrator hit a New York Post reporter in the face with a wooden board.\n",
      "14908                                                                                                                                                                                                                                                                                                                                                                                                                                                                                                                                                                                                                               On 8 August 2020, about 60 people including a Black state representative demonstrated outside the home of a Black police officer in Wauwatosa (Wisconsin) in support of the Black Lives Matter movement and against police brutality. Video shows demonstrators throwing toilet paper at the house. Police and the officer himself claimed that the officer and his girlfriend were both physically assaulted, punched, and shot at by one of the demonstrators. The officer also said that windows were broken. The state representative claimed that it was the police officer who pepper sprayed the demonstrators and that the officer provoked demonstrators.\n",
      "18836                                                                                                                                                                                                                                                                                                                                                                                                                                                                                                                                                                 On 26 September 2020, about 1,000 Proud Boys and MAGA activists gathered in Delta Park in Portland - North (Oregon) to hold a 'End Antifa' rally in support of President Donald Trump's re-election campaign and to call for an end to 'domestic terrorism'. One Proud Boys supporter attacked a 'livestreamer' pushing them to the floor and kicking them in the face. Three demonstrators were issued criminal citations for possession of loaded firearms in public. There were also some verbal clashes between Proud Boys supporters and self-described antifa members who came to the park. A demonstration in support of BLM was being held three miles away but no interaction between the demonstrations were reported.\n",
      "22787                                                                                                                                                                                                                                                                                                                                                                                                                                                                                                                                                                                                                                                                                                                                                                                                                                                                                                                                                                                                                                                           On 12 December 2020, Chris Hill of the III% Security Force and more than a dozen armed supporters assaulted four unarmed Antifa members in a parking garage in Atlanta (Georgia) after leaving a demonstration earlier that afternoon.\n",
      "23511    On 6 January 2021, hundreds of people, including Patriot Prayer founder Joey Gibson, gathered outside the State Capitol in Olympia (Washington) to demonstrate in favor of Donald Trump during a process in which electoral votes for the 2020 election, which Trump claimed were based on fraudulent results, were being certified in Washington, DC. Some demonstrators carried QAnon flags. A portion of the crowd marched to the nearby Governor's Mansion, after which a group broke onto the Mansion's grounds, and initially ignored orders to disperse from police who arrived on the scene before being escorted out. Other armed men joined the demonstration outside of the mansion, including a demonstrator with a Hitler Youth knife on his webbing who shouted threats about killing Boomers. No arrests were reported on the day of the demonstration. On 19 January police arrested a man on second-degree assault, felony harassment, and criminal trespassing charges for his actions on 6 January. The man reportedly assaulted two journalists with pepper-spray before threatening to kill a third. Some demonstrators carried firearms. On 5 January 2022, police arrested a member of the Proud Boys and affiliate of Patriot Prayer for participation in this event.\n",
      "23704                                                                                                                                                                                                                                                                                                                                                    On 10 January 2021, over 200 people, including members of Outlive Them NYC and United Against Racism and Fascism NYC marched from Columbus Circle to Times Square to Madison Square Park in New York - Manhattan (New York) demanding President Trump be removed from office immediately in response to the violence at the Capitol in Washington DC on 6 January 2021. People chanted, 'Trump, Pence, out now', 'Our city, our streets!', and 'What's that noise, fuck the Proud boys.' A group of demonstrators attacked a woman who was filming the demonstration. Demonstrators reportedly became angry and threw a raw egg at her, hit her with an umbrella, skateboard, sprayed her with aerosol, and rubbed a dirty diaper in her face. There were no serious injuries. The march was supposed to be a counter-demonstration organized in response to a proposed Proud Boys/MAGA demonstration at Columbus Circle that never happened.\n",
      "24934                                                                                                                                                                                                                                                                                                                                                               On 12 February 2021, about 100 demonstrators held a 'Defund the Police' rally and marched through New York - Manhattan (New York) in support of the Black Lives Matter movement and against police brutality. The demonstration turned violent when demonstrators witnessed a man assaulting a Black transgender woman demonstrator. Demonstrators were alleged to have said 'he's a cop!' due to thinking they saw the man, who was actually a photographer for the Daily News, at a previous demonstration. Dozens of demonstrators then surrounded the photographer and began shoving and beating him with their fists and other objects. The photographer suffered a bloody nose but no other injuries and declined medical attention. Police then arrested the Black transgender woman who was attacked as well as the journalist and 9 other rioters for a total of 11 arrests. Two police officers suffered minor injuries.\n",
      "31598                                                                                                                                                                                                                                                                                                                                                                                                                                                                                                                                                                                                                                                                                                                                                                                                    On 5 July 2021, more than 100 people gathered outside a home in Mount Laurel (New Jersey) to demonstrate against the home's resident, who was filmed hurling racial slurs and harassing his Black neighbors. During the demonstration, police arrested and escorted the man out of his home and into a police car. Some demonstrators threw water bottles and fired pepper spray at the man. After the man left his home, some demonstrators smashed some of the windows. No one was injured.\n",
      "32534                                                                                                                                                                                                                                                                                                                                                                                                                                                                                                                                                                                                                                                                                                                                                                                                                                                                                                                                                            On 31 July 2021, a few dozen people without masks gathered for a demonstration in Moscow (Idaho) against having to wear masks during the coronavirus pandemic. At one point, two men, one anti-mask demonstrator and another with a mask, started arguing and got into a physical fight. It is not clear what led to the altercation.\n",
      "34243                                                                                                                                                                                                                                                                                                                                                                                                                                                                                                                                                                                                                                                                                                                                                                     On 19 September 2021, about 300 students gathered outside the Theta Chi fraternity house at the University of Massachusetts Amherst in Amherst (Massachusetts) to demand the university take action against the fraternity after social media posts alleged that a member of the fraternity sexually assaulted a student. During the event, some demonstrators threw objects at the house, smashed windows, and flipped a car. At least one civilian was hit in the head by a bottle, causing non-life threatening injuries.\n",
      "54468                                                                                                                                                                                                                                                                                                                                                                                                                                                                                                                                                                                                                                                                                       On 23 April 2023, about 15 rioters at the University of Southern California in Los Angeles - South (California) climbed onstage and disrupted an interview with an archaeologist to demonstrate against the archaeologist, who they said was perpetuating imperialism with his excavations in Guatemala. Rioters unveiled a large banner that read 'Gringo colonizer out of Mirador' in Spanish. The rioters then got into a fist fight with the event crew, leaving at least one with a bloody nose. Local police also announced that at least one person was in custody on suspicion of battery assault.\n",
      "Name: NOTES, dtype: object\n"
     ]
    }
   ],
   "source": [
    "# df1[['assoc_actor_1_split'].value_counts()\n",
    "filtered_notes_57 = df1.loc[(df1['is_violent'] == 1) & (df1['INTERACTION'] == 57), \"NOTES\"]\n",
    "\n",
    "# Display the first 30 rows of the filtered data\n",
    "print(filtered_notes_57.head(30))"
   ]
  },
  {
   "cell_type": "code",
   "execution_count": 59,
   "id": "7b5e48a0",
   "metadata": {},
   "outputs": [
    {
     "data": {
      "text/plain": [
       "16    412\n",
       "15    300\n",
       "50     51\n",
       "36     41\n",
       "55     34\n",
       "57     15\n",
       "56     13\n",
       "68      5\n",
       "35      2\n",
       "58      1\n",
       "Name: INTERACTION, dtype: int64"
      ]
     },
     "execution_count": 59,
     "metadata": {},
     "output_type": "execute_result"
    }
   ],
   "source": [
    "df1.loc[(df1['is_violent'] == 1)]['INTERACTION'].value_counts()"
   ]
  },
  {
   "cell_type": "code",
   "execution_count": 61,
   "id": "9369ef06",
   "metadata": {},
   "outputs": [
    {
     "name": "stdout",
     "output_type": "stream",
     "text": [
      "4185                                                                                                                                                                                                                                                                                                                                                                                                                                                                                                                                                                                                                                                                                                                                                                                                                          On 30 May 2020, in Visalia (California), two women were run over by a Jeep during a Black Lives Matter protest over the killing of George Floyd. Authorities are still investigating the incident and the case is to be submitted to the DA's office for review of potential criminal charges. The driver reported the incident immediately to the police and no arrest has yet been made.\n",
      "4261                                                                                                                                                                                                                                                                                                                                                                                                                                                                                                                                                                                                                                                                                             On 30 May 2020, about a dozen protesters demonstrated in Kokomo (Indiana) in support of the Black Lives Matter movement and over the death of George Floyd. A truck driven by a jail correctional officer (off-duty) drove into the crowd, leading to two minor injuries, and then fled the scene. She was later stopped by the police and charged. She has since resigned from the position. Investigations are ongoing, but a Police Department Major told the media he didn't believe the incident was 'purposeful.'\n",
      "4431                                                                                                                                                                                                                                                                                                                                                                                                                                                                                                                                                     On 30 May 2020, about 1000 people staged a protest in Gainesville (Florida) in support of the Black Lives Matter movement and against police brutality. A man drove a car into the crowd. Protesters threw water bottles at the car and chased it away. The driver drove four blocks, then looped around to return to the scene to find a police officer, according to the driver. Some witnesses said that a biker was hit by the vehicle and that the driver appeared to be holding a gun. Police said a semi-automatic pistol was found with the driver, but no shots were fired. The driver was arrested and charged with six counts of aggravated assault.\n",
      "4765                                                                                                                                                                                                                                                                                                                                                                                                                                                                                                                                                                                                                                                                                                                                                              On 31 May 2020, about 1000 people demonstrated in Bloomington (Illinois) in support of the Black Lives Matter movement and against police brutality and the death of George Floyd. The BLM protest was organized by the local chapter of the NAACP. A motorcyclist deliberately drove through the crowd, injuring two people in a hit-and-run incident. One person was hospitalized. The perpetrator was later arrested and charged with a hate crime.\n",
      "5004                                                                                                                                                                                                                                                                                                                                                                                                                                                                                                                                                                                                                                                                                                                                                                                     On 31 May 2020, a few dozen people staged a protest in Pasadena (California) in support of the Black Lives Matter movement and against police brutality and the death of George Floyd. A man drove a truck into the crowd, with another motorist also accelerating into two demonstrators. Both drivers were arrested. The truck was displaying multiple flags affiliated with right-wing politics. No protesters were injured.\n",
      "5297                                                                                                                                                                                                                                                                                                                                                                                                                                                                                                                                                                                                                                                                                                                                                                                                                                                                               On 1 June 2020, hundreds of people gathered in West Islip (New York) in support of the Black Lives Matter movement and against police brutality and the death of George Floyd. One driver accelerated his car, in an apparent attempt to scare protestors that had surrounded it. No injuries were reported and no arrests were made.\n",
      "6048                                                                                                                                                                                                                                                                                                                                                                                                                                                                                                                                                                                                                                                                                      On 2 June 2020, a small group of protesters marched in Whitestone in New York - Queens (New York) in support of the Black Lives Matter movement and against police brutality and the death of George Floyd. A man, with knives strapped to his arm, threatened to kill demonstrators and then drove his car onto the sidewalk, sending the demonstrators running for their lives. No injuries were reported. The perpetrator was later arrested and is facing a number of charges n including criminal possession of a weapon.\n",
      "6101                                                                                                                                                                                                                                                                                                                                                                                                                                                                                                                                                                                                                                                                                                                                                                                                                                                           On 2 June 2020, about 100 people marched in Murray (Kentucky) in support of the Black Lives Matter movement and against police brutality and the death of George Floyd. One man rolled down his window and fired pepper spray at a number of protesters and officers on patrol. Another man allegedly pointed a gun at demonstrators. Both were arrested.\n",
      "6452                                                                                                                                                                                                                                                                                                                                                                                                                                                                                                                                                                                                                                                                                                                                                                                                                                                         On 3 June 2020, hundreds of protesters joined a rally organized by 'Stop Killing Us' in Durham (North Carolina) in support of the Black Lives Matter movement and against police brutality and the death of George Floyd. An individual attempted to use his car to run over protesters who were blocking the street. No arrests or injuries were reported.\n",
      "6483                                                                                                                                                                                                                                                                                                                                                                                                                                                                                                                                                                         On 3 June 2020, an unreported number of people protested in Columbia (Missouri) in support of the Black Lives Matter movement and against police brutality and the death of George Floyd. A white male Trump supporter drove a pickup truck towards the crowd. He was charged with carelessness and imprudent driving and resisting arrest. No injuries occurred. On the same day, over 100 student athletes and coaches of University of Missouri, as well as members of Columbia and MU police departments, marched in Columbia in support of the Black Lives Matter movement and against police brutality and the death of George Floyd.\n",
      "6550                                                                                                                                                                                                                                                                                                                                                                                                                                                                                                                                                                                                                                                                                                                                                                                                                                                                                                                                                     On 3 June 2020, about 100 people demonstrated in Bakersfield (California) in support of the Black Lives Matter movement and in opposition to police brutality. One demonstrator was hit by a car and killed, an incident that reports indicate was intentional.\n",
      "6584                                                                                                                                                                                                                                                                                                                                                                                                                                                                                                                                                                                                                                                                                                                                                                                     On 3 June 2020, hundreds of protesters gathered in Newport Beach (California) in support of the Black Lives Matter movement and against the killing of George Floyd. A driver attempted to ram members of the crowd with a car, however no serious injuries were reported. Police later arrested the driver. Another man, who threatened protesters with a gun, was also arrested on suspicion of assault with a deadly weapon.\n",
      "7028                                                                                                                                                                                                                                                                                                                                                                                                                                                                                                                                                                                                                                                                                                                                                                                                                                                                                                           On 4 June 2020, hundreds of people led by ExpectUS blocked roads and marched in Brentwood (Missouri) in support of Black Lives Matter and against police brutality and the death of George Floyd. A man drove recklessly through the protesters while firing a gun. He was arrested and has been charged.\n",
      "7040                                                                                                                                                                                                                                                                                                                         On 5 June 2020, around 200 people marched in Overton Square to the Cooper-Young neighborhood in midtown Memphis (Tennessee) in support of Black Lives Matter movement and racial injustice in the wake of the death of George Floyd. During the protest, a driver reportedly tried to intentionally drive through the protesters. Three injuries and one hospitalization were reported. The driver was charged with four counts of Reckless Endangerment and one count of Reckless Driving. In a separate incident at the same location, another driver drove through the crowd, though no one was struck or injured. The second driver was cited for disregarding a red light. Protesters on social media claimed that in both incidents, the drivers attempted to hit several protesters and are calling for them to be arrested. The Shelby County Commissioner has made a similar call.\n",
      "7705                                                                                                                                                                                                                                                                                                                                                                                                                                                                                                                                                                                                                                                                                                                        On 6 June 2020, hundreds of people staged a protest in Pensacola (Florida) in support of the Black Lives Matter movement and against police brutality and the death of George Floyd. A group of 30 protesters locked arms and blocked all lanes of traffic on a bridge in Pensacola, refusing to move until the Mayor came to address their demands. A driver drove an SUV through the protesters near Graffiti Bridge, resulting in the injury of a man who was later sent to the hospital.\n",
      "8911                                                                                                                                                                                                                                                                                                                                                                                                                                                                                                                                                                                                                                                                                                                                                                                                                                                                  On 8 June 2020, around 100 demonstrators rallied peacefully outside a restaurant in Greenville (South Carolina) to protest a restaurant owner who made a racist post on Facebook. During the demonstration, a man drove an SUV into the crowd. The person driving the vehicle rolled down the car window and struck an individual with their hand.\n",
      "9237                                                                                                                                                                                                                                                                                                                                                                                                                                                                                                                                                                                                                                                                                                             On 10 June 2020, thousands of people staged a protest in Seattle - CHOP (Washington) in support of the Black Lives Matter movement and against police brutality and the death of George Floyd. They gathered at the so-called 'Capitol Hill Organized Protest' or 'CHOP'. CHOP was self-declared as an autonomous zone on 8 June 2020. A driver reportedly drove into the crowd, causing minor injuries and destroying one bicycle. Video of the incident show a car driving into protesters on cycles.\n",
      "9395                                                                                                                                                                                                                                                                                                                                                                                                                                                                                                                                                                                                                                                                                                                                                                                                                                                                                                                              On 11 June 2020, about 30 people marched in Bath (Maine) in support of Black Lives Matter and against police brutality and the death of George Floyd. While the protesters were crossing the road at the intersection of Centre and High streets, a red pickup truck rammed into them.\n",
      "9880                                                                                                                                                                                                                                                                                                                                                                                                                                                                                                                                                                                                                                                              On 13 June 2020, about 30 people protested outside a restaurant in Overton Square in Memphis (Tennessee) overs concerns surrounding the racial discrimination allegations against Flight Ownership Group who just opened the a new restaurant in the city. Around 10 protesters blocked the driveway outside the restaurant. An individual drove his truck towards the protesters. Several protesters were reportedly touched by the car, but no one was injured. The driver was arrested and charged with reckless endangerment and reckless driving.\n",
      "10478                                                                                                                                                                                                                                                                                                                                                                                                                                                                                                                                                                                                                                                                                                             On 17 June 2020, thousands of people marched across Hawthorne Bridge in Portland - Downtown (Oregon) in support of the Black Lives Matter movement. Shortly after 1 am, a car struck several protesters and left at a high speed, driving the wrong way down the street. Three protesters were injured, two of them had trauma-level injuries. The driver was later found and arrested and has been charged with 'Felony Hit and Run', 'Reckless Driving', and 'Possession of a Controlled Substance'.\n",
      "10879                                                                                                                                                                                                                                                                                                                                                                                                                                                                                                                                                                                                                                                                                                                                                                    On 19 June 2020, thousands of people attended the OneRace March in Centennial Olympic Park in Atlanta (Georgia) in support of the Black Lives Matter movement and against police brutality and the death of George Floyd and Rayshard Brooks. Allegedly, an armed man drove to the demonstration, attempted to hit demonstrators with the car, and fired at least eight rounds. Exact accounts of the armed man confronting demonstrators vary.\n",
      "12319                                                                                                                                                                                                                                                                                                                                                                                                                                                                                                                                                                                                                                                                                                                                                     On 4 July 2020, about 30 people protested in Mishawaka (Indiana) in support of the Black Lives Matter movement and against police brutality and the death of George Floyd. A car originally drove away from the protest, but then turned back and drove through the protesters, hitting at least 4 people and dragging one person for about 50 feet, causing the protester to be sent to the hospital. The driver has been charged with criminal recklessness.\n",
      "12517                                                                                                                                                                                                                                                                                                                                                                                                                                                                                                                                                                                                                                                                                                                                                                                            On 6 July 2020, hundreds protested in Bloomington (Indiana) in support of the Black Lives Matter movement and demanding justice for the Black man who was assaulted in Bloomington on July 4th. Protesters claimed that a car drove through the protest intentionally, hitting two civilians. One woman was sent to the hospital and another man had minor injuries. A woman was charged on 9 July for the hit-and-run.\n",
      "12686                                                                                                                                                                                                                                                                                                                                                                                                                                                                                                                                                                                                                                                                                                                                                                                                                                                           On 9 July 2020, about 100 people staged a peaceful protest outside of the Multnomah County Justice Center in Portland - Downtown (Oregon) in support of the Black Lives Movement and against police brutality and the death of George Floyd. A man in a car fired several shots into the air after an altercation with protesters. No injuries reported.\n",
      "15744                                                                                                                                                                                                                                                                                                                                                                                                                                                                                                                                                                                                                                                                                                                                                                                                                                                                        On 21 August 2020, at least 100 people organized by the Iowa Freedom Riders and including local students protested in Iowa City (Iowa) in support of the Black Lives Matter movement and against police brutality and the death of George Floyd. A vehicle intentionally accelerated and drove through the protesters, injuring two people.\n",
      "17065                                                                                                                                                                                                                                                                                                                                                                                                                                                                                                                                                                                                                                                                                                                                                                                                                                                                                                                                       On 3 September 2020, around 200 people gathered in Times Square in New York - Manhattan (New York) in support of the Black Lives Matter movement and against the death of Daniel Prude. A driver rammed into some of the protesters, hitting people on bicycles and on foot.\n",
      "18360                                                                                                                                                                                                                                                                                                                                                                                                                                                                                                                                                                                                                                                              On 23 September 2020, hundreds of people gathered around Capitol building in Denver (Colorado) to protest in support of the Black Lives Matter movement and in reaction to a court's decision not to indict any officers involved over the killing of Breonna Taylor. Some protesters later were involved in a stand-off with police, but the protest remained peaceful. A man intentionally drove a SUV through a group of the Black Lives Matter protesters outside the Colorado State Capitol. The driver of the SUV was later arrested by police.\n",
      "18501                                                                                                                                                                                                                                                                                                                                                                                                                                                                                                                                                                                               On 24 September 2020, several dozen demonstrators rallied in Eureka (California) in support of the Black Lives Matter movement and against police brutality and Wednesday's ruling on the fatal police shooting of Breonna Taylor. A driver ran over a woman's foot after the truck 'apparently came through twice,' leaving the demonstrator with an injury to her ankle. Several vehicles were allegedly vandalized as they waited to bypass a police blockade. Some businesses were spray painted allegedly by 'three or four white men' who were causing a disturbance and engaging in the destructive behavior.\n",
      "18520    On 24 September 2020, more than 300 people marched in Hollywood neighborhood of Los Angeles - Central (California) in support of the Black Lives Matter movement and against police brutality and Wednesday's ruling on the fatal police shooting of Breonna Taylor. A blue pick-up truck intentionally struck at least two demonstrators. One demonstrator was hospitalized with minor injuries in connection to this car ramming. Police temporarily detained the driver before releasing the driver. The driver later claimed that demonstrators beat the vehicle with sticks and tried to open the door. Police noted damage to the vehicle, stating that the initial investigation supports the driver's claims. Demonstrators refute both the driver's and police accounts. Later during the demonstration, a white Prius intentionally drove through a large crowd, hitting several people. A black truck and green Mustang that had been escorting demonstrators then boxed in the Prius and the drivers attempted to physically 'apprehend' the Prius driver. The Prius then backed into the Mustang and drove off. It is unclear if anyone was injured by the Prius driver. Investigation is ongoing.\n",
      "18824                                                                                                                                                                                                                                                                                                                                                                                                                                                                                                                                                                                                                                                                                                                                     On 26 September 2020, hundreds of Trump supporters belonging to members of Trucks for Trump and MAGA Drag the Interstate held a parade along from Texas city to Seawall Boulevard in Galveston (Texas). A man, who was part of the parade, was found bleeding from his head and mouth and was taken to a hospital. Witnesses claimed that the Trump supporter was physically assaulted after he got into a verbal altercation 'of a political nature' with a much younger man.\n",
      "Name: NOTES, dtype: object\n"
     ]
    }
   ],
   "source": [
    "# df1[['assoc_actor_1_split'].value_counts()\n",
    "filtered_notes_36 = df1.loc[(df1['is_violent'] == 1) & (df1['INTERACTION'] == 36), \"NOTES\"]\n",
    "\n",
    "# Display the first 30 rows of the filtered data\n",
    "print(filtered_notes_36.head(30))"
   ]
  },
  {
   "cell_type": "code",
   "execution_count": 79,
   "id": "4f0e4572",
   "metadata": {},
   "outputs": [],
   "source": [
    "# Define the keywords you want to search for\n",
    "keywords = ['drive', 'drove', 'driver', 'driving']\n",
    "#  ' car ', ' truck ', ' motorcycle ' <-- add these for more vehicle stuff\n",
    "\n",
    "\n",
    "# Use the apply method to create the 'vehicle_involved' column\n",
    "df1['vehicle_involved'] = df1['NOTES'].apply(lambda x: any(keyword in str(x).lower() for keyword in keywords))\n",
    "\n",
    "# Convert the boolean True/False to 1/0\n",
    "df1['vehicle_involved'] = df1['vehicle_involved'].astype(int)"
   ]
  },
  {
   "cell_type": "code",
   "execution_count": 80,
   "id": "5f6e9ac5",
   "metadata": {},
   "outputs": [
    {
     "data": {
      "text/plain": [
       "0    17909\n",
       "1      567\n",
       "Name: vehicle_involved, dtype: int64"
      ]
     },
     "execution_count": 80,
     "metadata": {},
     "output_type": "execute_result"
    }
   ],
   "source": [
    "df1['vehicle_involved'].value_counts()"
   ]
  },
  {
   "cell_type": "code",
   "execution_count": 70,
   "id": "e5cb80af",
   "metadata": {},
   "outputs": [
    {
     "data": {
      "text/plain": [
       "0    803\n",
       "1     71\n",
       "Name: vehicle_involved, dtype: int64"
      ]
     },
     "execution_count": 70,
     "metadata": {},
     "output_type": "execute_result"
    }
   ],
   "source": [
    "df1.loc[(df1['is_violent'] == 1)]['vehicle_involved'].value_counts()"
   ]
  },
  {
   "cell_type": "code",
   "execution_count": 72,
   "id": "d24f38a5",
   "metadata": {},
   "outputs": [
    {
     "data": {
      "text/plain": [
       "200.0     239\n",
       "2000.0     68\n",
       "24.0       67\n",
       "100.0      64\n",
       "300.0      57\n",
       "50.0       43\n",
       "110.0      42\n",
       "30.0       22\n",
       "150.0      20\n",
       "12.0       17\n",
       "15.0       17\n",
       "40.0       16\n",
       "10.0       15\n",
       "48.0       15\n",
       "60.0       14\n",
       "5.0        14\n",
       "1000.0     13\n",
       "20.0       13\n",
       "1020.0     13\n",
       "115.0      12\n",
       "210.0      10\n",
       "55.0        9\n",
       "305.0       8\n",
       "1010.0      7\n",
       "70.0        7\n",
       "500.0       7\n",
       "250.0       6\n",
       "75.0        6\n",
       "36.0        6\n",
       "105.0       6\n",
       "195.0       5\n",
       "205.0       4\n",
       "155.0       4\n",
       "80.0        3\n",
       "35.0        2\n",
       "400.0       1\n",
       "25.0        1\n",
       "95.0        1\n",
       "Name: crowd_size_numerical, dtype: int64"
      ]
     },
     "execution_count": 72,
     "metadata": {},
     "output_type": "execute_result"
    }
   ],
   "source": [
    "df1.loc[(df1['is_violent'] == 1)]['crowd_size_numerical'].value_counts()"
   ]
  },
  {
   "cell_type": "markdown",
   "id": "b0a5dd4f",
   "metadata": {},
   "source": [
    "# Drop the NaN's for events without affiliated groups"
   ]
  },
  {
   "cell_type": "code",
   "execution_count": 88,
   "id": "7fb4125b",
   "metadata": {},
   "outputs": [
    {
     "name": "stdout",
     "output_type": "stream",
     "text": [
      "Number of rows where both ASSOC_ACTOR_1 and ASSOC_ACTOR_2 are NaN: 13432\n"
     ]
    }
   ],
   "source": [
    "# df[(df['ASSOC_ACTOR_1'].isna() & df['ASSOC_ACTOR_2'.isna()].sum()\n",
    "unknown_actors = df[(df['ASSOC_ACTOR_1'].isna()) & (df['ASSOC_ACTOR_2'].isna())].shape[0]\n",
    "print(f'Number of rows where both ASSOC_ACTOR_1 and ASSOC_ACTOR_2 are NaN: {unknown_actors}')"
   ]
  },
  {
   "cell_type": "markdown",
   "id": "1e298344",
   "metadata": {},
   "source": [
    "# SPLC Hate Groups"
   ]
  },
  {
   "cell_type": "code",
   "execution_count": 82,
   "id": "06f36fb5",
   "metadata": {},
   "outputs": [],
   "source": [
    "df_hate = pd.read_csv('splc-hate-groups-2022.csv')"
   ]
  },
  {
   "cell_type": "code",
   "execution_count": 86,
   "id": "b41ca961",
   "metadata": {},
   "outputs": [
    {
     "name": "stdout",
     "output_type": "stream",
     "text": [
      "['2nd Amendment Patches.com', 'AC Skins', 'ACT for America', 'ACTBAC NC', 'Active Club', 'AFA of Indiana', 'Affirmative Right', 'Al Moroccan Empire at New Jersey State Republic', 'Alabama Parents Involved in Education', 'Alaska Parents Involved in Education', 'AlertAmerica.News', 'All Scripture Baptist Church', 'Alliance Defending Freedom', 'Alt', 'Ambassadors of Christ', 'America First Foundation', \"America's Remedy\", \"America's Survival, Inc.\", 'American Border Patrol', 'American Christian Dixie Knights of the Ku Klux Klan', 'American College of Pediatricians', 'American Common Law Academy', 'American Defense Skinheads', 'American Family Association', 'American Free Press', 'American Freedom Alliance', 'American Freedom Defense Initiative', 'American Freedom Law Center', 'American Freedom Network', 'American Freedom News', 'American Freedom Party', 'American Front', 'American Futurist', 'American Immigration Control Foundation/Americans for Immigration Control', 'American Meeting Group', 'American National Socialist Party', 'American Nazi Party', 'American Patriot Party', 'American Patriot Vanguard', 'American Patriots Three Percent', 'American Police Officers Alliance', 'American Policy Center', 'American Reformation Front', 'American Regulators', 'American Renaissance/New Century Foundation', 'American States Assembly', 'American Vision', 'Americans for Legal Immigration (ALIPAC)', 'Americans for Truth About Homosexuality', 'Amerikaner', 'Antelope Hill Publishing', 'Arizona Border Recon', 'Arkansas Moms for America', 'Arkansas Parents Involved in Education', 'Arktos Media', 'Army of Israel', 'Aryan Freedom Network', 'Aryan National Army', 'Aryan Nations', 'Asatru Folk Assembly', 'ASN Study Guide & University (American State Nationals)', 'Assembly of Christian Israelites', 'ATLAH Media Network', 'AVOW (Another Voice of Warning)', 'AZ Active Club', 'AZ Patriots', 'Bedford County Militia', 'Berks County Patriots', 'Big Sky Active Club', 'Bill Keller Ministries', 'Black Metal Cult Records', 'Black Riders Liberation Party', 'Blood River Radio', 'Bomb Islam', 'Border Network News', 'Brotherhood of Light Recordings', 'California Parents Involved in Education', 'California State Militia', 'Californians for Population Stabilization', 'Camp Constitution', 'Carlisle Light Infantry', 'carolynyeager.net', 'Catholic Apologetics International', 'Catholic Family News/Catholic Family Ministries, Inc.', 'Center for Family and Human Rights (C', 'Center for Immigration Studies', 'Center for Security Policy', 'Center for Self Governance', 'Chalcedon Foundation', 'Chick Publications', 'Christ or Chaos', 'Christ the King the Reformed Church', 'Christian Action Network', 'Christian Revival Center', 'Christogenea', \"Church Militant/St. Michael's Media\", 'Church of Aryanity/Order of the Western Knights Templar', 'Church of Israel', 'Citizens for National Security', 'Citizens Organized to Restore Rights', 'Clemens and Blair, LLC', 'Clockwork Crew', 'Cold Dead Hands 2nd Amendment Advocacy Group', 'Colorado Alliance for Immigration Reform', 'Colorado Jural Assembly', 'Colorado Parents Involved in Education', 'Committee for Open Debate on the Holocaust', 'Concerned Christian Citizens', 'Confederate Hammerskins', 'Connecticut Parents Involved in Education', 'Connecting the Dots', 'Constitution Party', 'Constitution Party (Independent American Party)', 'Constitution Party (U.S. Taxpayers Party of Michigan)', 'Constitution Party of Illinois', 'Constitution Party of Indiana', 'Constitution Party of Iowa', 'Constitution Party of Maryland', 'Constitution Party of New York', 'Constitution Party of Ohio', 'Constitution Party of Pennsylvania', 'Constitution Party of Utah', 'Constitution Party of West Virginia', 'Constitutional Coalition of NYS', 'Constitutional Law Group', 'Constitutional Rights PAC', 'Constitutional Sheriffs and Peace Officers Association', 'Cottonwood MIlitia', 'Council of Conservative Citizens', 'Counter Jihad Coalition', 'Counter', 'Courage is a Habit', \"Covenant People's Ministry\", 'Cowboys Motorcycle Club Idaho', 'Culture Wars/Fidelity Press', 'Cultures In Context Incorporated/Turning Point Project', 'D. James Kennedy Ministries', 'Dakota Prairie Asatru', 'David Horowitz Freedom Center', 'Defense Distributed', 'Delaware Parents Involved in Education', 'Discount Book Distributors/The Patriot Depot', 'Dixie Giftshop', 'Dixie Republic', 'DNVF Records', 'Dominion Active Club', 'Eagle Forum', 'East Coast Knights of the True Invisible Empire', 'Easter Tidings/Carolyn Emerick', 'Educate Yourself', 'Education First Alliance', 'Education Veritas', 'Embassy of Heaven', 'Empire Washitaw de Dugdahmoundyah', 'Euro Folk Radio', 'European', 'Evergreen', 'Exodus/Americanus', 'Faith Education Commerce (FEC United)', 'Faith2Action', 'Faithful Word Baptist Church', 'Family Research Council', 'Family Research Institute', 'Family Watch International', 'Federation for American Immigration Reform', \"Fellowship of God's Covenant People\", 'Fight White Genocide', 'Firm 22', 'First State Pathfinders', 'First Works Baptist Church', 'Florida Family Association', 'Florida Parents Involved in Education', 'Folks Front/Folkish Resistance Movement', 'Fort Worth Dallas TX Chapter', 'Fortress of Faith', 'Foundation for Advocating Christian Truth/Acts 17 Apologetics', 'Free North Carolina', 'Free PA', 'Freedom Bound International', 'Freedom Coalition', 'Freedom First Society', 'Freedom From Government', 'Freedom Law School', 'Freedom Rising Sun', 'Freedom School', 'Freedom Yell', 'Front Range Active Club', 'Full Haus', 'G416 Patriots', 'Garden State 2A Grassroots Organization', 'Generations', 'Genesis Communication Network', 'Georgia Parents Involved in Education', 'Gideon Knox Group, MT Daily Gazette', 'Glasov Gang Productions', 'Global and Theological Trends', 'Global Faith Institute', 'Good Citizen Militia', 'Gorilla Learning Institute', 'Goyim Defense League', 'GraniteGrok', 'Great Millstone', 'Gun Owners of America', 'H8 Propagand Art', 'Hawaii Parents Involved in Education', 'Hearth & Helm LLC', 'Heartland Defenders', 'Heartland Patriots', 'Heterosexuals Organized for a Moral Environment (H.O.M.E.)', 'HISAdvocates.org', 'Honorable Sacred Knights of the Ku Klux Klan', 'House of David', 'House of Israel', 'Idaho Constitutional Sheriffs', 'Idaho Parents Involved in Educatio', 'Identity Dixie', 'III% Security Force', 'III% United Patriots', 'Illinois Family Institute', 'Illinois Parents Involved in Education', 'Illinois Sons of Liberty', 'Immigration Reform Law Institute', 'In the Spirit of Chartres Committee', 'Independent History & Research', 'Indiana Active Club', 'Indiana Parents Involved in Education', 'InfoWars LLC', 'Insight USA', 'Institute for Historical Review', 'Institute on the Constitution', 'Iowa Parents Involved in Education', 'Iron City CRU (Citizens Response Unit)', 'ISD Records/NS88 Video', 'Israel United In Christ', 'Israelite School of Universal Practical Knowledge', 'Israelites Saints of Christ', 'Jeremiah Films', 'Jewish Task Force', 'Jihad Watch', 'John Birch Society', 'Kansas Parents Involved in Education', 'Kentucky Parents Involved in Education', 'Keystone United', 'Kingdom Identity Ministries', 'Koschertified?', 'KrisAnne Hall', 'Last Chance Patriots', 'League of the South', 'LewRockwell.com', 'Liberty Baptist Church', 'Liberty Counsel', 'Liberty First University', 'Liberty Hangout', 'Liberty News Network', 'Liberty RoundTable', 'Life Force Network', 'Light Foot Militia, 63rd Battalion', 'Lion of Judah', 'Live Up to Freedom', 'Long Island Loud Majority', 'Long Island Mutual Assistance Group', 'Louisiana Parents Involved in Education', 'Loving Liberty Network', 'Loyal White Knights of the Ku Klux Klan', 'Luxor Couture', \"Madison's Militia\", 'Maine Parents Involved in Education', 'Mamalitia', 'March of Exodus', 'Maryland Parents Involved in Education', 'Masharah Yasharahla', 'Mass Resistance', 'Massachusetts Parents Involved in Education', 'Maulitia Motorcycle Club', 'Mayhem Solutions Group', 'Medical Kidnap', 'Melrose Patriots', 'Michigan Home Guard', 'Michigan Liberty Militia', 'Michigan Parents Involved in Education', 'Minnesota Parents Involved in Education', 'Mission to Israel Ministries', 'Mission: America', 'Mississippi Parents Involved in Education', 'Missouri Militia', 'Missouri Parents Involved in Education', 'Moms for America', 'Moms for America Illinois', 'Moms for Liberty', 'Moms for LIberty', 'Moms For Liberty', 'Mountains of Israel', 'MSR Productions', 'Nation of Islam', 'Nation of Kings and Priests', 'National Alliance', 'National Assembly', 'National Constitutional Coalition of Patriotic Americans', 'National Justice Party', 'National Liberty Alliance', 'National Socialist Charitable Coalition/Global Minority Initiative', 'National Socialist German Workers Party', 'National Socialist Movement', 'National Socialist Order', 'National Socialist Resistance Front', 'Nationalist Social Club (NSC', 'NatSoc Florida', 'Natural Law Hawaii', 'Natural News', 'Nebraska Parents Involved in Education', 'Nevada Parents Involved in Education', 'New Black Panther Party', 'New California State', 'New Columbia Movement', 'New England Minutemen', 'New Hampshire Parents Involved in Education', 'New Jersey European Heritage Association', 'New Jersey Parents Involved in Education', 'New Mexico Parents Involved in Education', 'New Order', 'New York Militia TM', 'New York Parents Involved in Education', 'News With Views', 'Next News Network', 'No Left Turn in Education', 'North Carolina Moms for America', 'North Carolina Parents Involved in Education', 'North Carolinians for Immigration Reform and Enforcement', 'North Dakota Parents Involved in Education', 'North East Ohio Woodsmen', 'Northern Illinois Moms for America', 'Northwest Front', 'Northwest Hammerskins', 'Norwich Chapter', 'Now the End Begins', 'NS Publications', 'NSDAP', 'Oath Keepers', 'Oath Keepers of Pennsylvania', 'Occidental Dissent', 'Occidental Observer', 'Occidental Quarterly/Charles Martel Society', 'Occupied Forces Hawaii Army', 'Official Street Preachers', 'Ohio Defense Force Home Guard', 'Ohio Militiamen', 'Ohio Minutemen Militia', 'Ohio Parents Involved in Education', 'Ohio Patriots Alliance', 'Oklahoma Moms For America', 'Oklahoma Parents Involved in Education', 'Old Glory Knights of the Ku Klux Klan', 'OneBody in Yahawashi', 'Oregon Parents Involved in Education', 'Oregon Statewide Jural Assembly', 'Oregonians for Immigration Reform', 'Overpasses for America', 'Pacific Justice Institute', 'Pacific Justice Institute, Orange County Office', 'Palm Beach County Moms for America', 'Panhandle Patriots Riding Club', 'Parents Against Critical Race Theory LLC', 'Parents Defending Education', \"Parents' Rights in Education\", 'Pass the Salt Ministries', 'Patriot America', 'Patriot Front', 'Patriot Front North Dakota', 'Patriot Party of AZ', 'Patriot Shit Outfitters', 'Patriotic Dissent Books', 'Patriotic Flags', 'Patriots for America', 'Patriots for Delaware', 'Patriots for Ohio', 'Pennsylvania Active Club', 'Pennsylvania Light Foot Militia', 'Pennsylvania Oath Keepers', 'Pennsylvania Parents Involved in Education', 'Pennsylvania Patriots United', 'Pennsylvania Volunteer Militia', \"People's Rights\", 'People’s Bureau of Investigation', 'Pilgrims Covenant Church', 'Political Islam', 'Polk County Moms for America', 'Power of Prophecy', 'Probe Ministries', 'ProEnglish', 'Protect America Now', 'Protect Texas Kids', 'Proud American Patriots Network', 'Proud Boys', 'Public Advocate of the United States', 'Purple for Parents Indiana', 'PzG Inc.', 'R.V. Bey Publications', 'Racial Nationalist Party of America', 'Radio Jihad/Global Patriot Radio', 'Radix Journal', 'RAIR Foundation USA', 'Reawaken America', 'Red Ice', 'Red Voice Media', 'Redoubt News', 'Refugee Resettlement Watch', 'Reign of the Heavens Society', 'Renaissance Horizon', 'Renew America', 'Rense Radio Network', 'Republic Broadcasting', 'Republic for the united States of America', 'Republic of Texas', 'Respect Washington', 'Revival Baptist Church', 'Revolt Through Tradition', 'Revolutionary Black Panther Party', 'Rhode Island Parents Involved in Education', 'Rhode Island Patriots', 'Riders United for a Sovereign America, Corp.', 'Righteous Army', 'Rise of the Moors', 'Rooshv.com', 'Rule of Law Radio', 'Ruth Institute', 'Sacred Truth Publishing & Ministries', 'Sarasota County Moms for America', 'Sarasota Patriots', 'Save California', 'School of the West', 'Scott Lively Ministries', 'Scott', 'Scriptures for America Worldwide Ministries', 'Secure Arkansas', 'Shieldwall Network', 'Sicarii 1715', 'Silver Bear Cafe', 'Silver Shield Xchange', 'Slaves of the Immaculate Heart of Mary', 'SoCal Active Club/NorCal Active Club/Central CA Active Club', 'Sons of Liberty Media (formerly You Can Run But You Cannot Hide)', 'Sons of Liberty Survival Outfitters', 'South Carolina Parents Involved in Education', 'South Central Pennsylvania Patriots', 'South Dakota Parents Involved in Education', 'Southeast Mesa CA', 'Southeast Michigan Volunteer Militia', 'Southern Arizona Militia', 'Southern Cultural Center', 'Southern Ohio Outdoorsmen', 'Southern Sons Active Club', 'Sovereign Filing Solutions', 'Sovereignty Education and Defense Ministry', 'Stand Up America U.S.', 'State of Jefferson', 'State of Jefferson Formation', 'Statewide Common Law Grand Jury', 'Stay in the Light Stay in the Fight', 'Stedfast Baptist Church', 'Stokes County Militia', 'Stormfront', 'Strong Hold Baptist Church', 'Sunshine State Nationalists', 'Super Happy Fun America', 'Sure Foundation Baptist Church', 'Tea Party of Kentucky', 'Team Law', 'Tennessee Eagle Forum', 'Tennessee League of the South', 'Tennessee Parents Involved in Education', 'Tenth Amendment Center', 'Texans for Immigration Reduction and Enforcement', 'Texans4Truth', 'Texas Eagle Forum', 'Texas Freedom Coalition', 'Texas Parents Involved in Education', 'The America Project', 'The American State Assembly', 'The Barnes Review', 'The Black Sun Tribe Project', 'The Brother Nathanael Foundation', 'The California Assembly', 'The Campus Ministry USA', 'The Church of Ben Klassen', 'The Colchester Collection', 'The Constitution Club', 'The Creativity Alliance', 'The Daily Stormer', 'The Dustin Inman Society', 'The Fatima Crusader/International Fatima Rosary Crusade', 'The Fitzgerald Griffin Foundation', 'The Foundation', 'The Frontiersmen', 'The Healthy American', 'The Institute on the Constitution (aka American View)', 'The Last Militia', 'The Moorish Science Temple of America 1928', 'The Political Cesspool', 'The Post and Email', 'The Pray in Jesus Name Project', 'The Prophecy Club Resources', 'The Real Three Percenters Idaho', 'The Realist Report', 'The Remembrance Project', 'The Remnant/The Remnant Press', 'The Right Stuff', 'The Straight Way of Grace Ministry', 'The United Sabaeans Worldwide', 'The United West', 'Third Reich Books', 'This is Texas Freedom Force', 'Thomas More Law Center', 'Three Percent of Washington', 'Tightrope Records', 'Timber Unity', 'Tom Brown Ministries', 'Tradition in Action', 'True Light Pentecost Church', 'True Nation Israelite Congregation', 'True Texas Project', 'True311.com', 'TruNews', 'Truth in Love Project', 'Truth in Textbooks', 'TruthRadioShow.com', \"Uncle Sam's Misguided Children\", 'Understanding the Threat', 'Union of Three Percenter American Patriots', 'United Families International', 'United Klan Nation', 'United Patriots for America', 'United People of America', 'United Riot Records', 'United Skinhead Nation', 'United States Justice Foundation', 'United States of America Republic Government', 'Utah Citizens Alarm', 'Utah Constitutional Militia', 'Utah Parents Involved in Education', 'Utah Patriots', 'Vanguard News Network', 'VDARE Foundation', 'Verity Baptist Church', 'Vermont Parents Involved in Education', 'Vermont State Militia', 'Veterans on Patrol', 'Vinland Clothing', 'Vinland Rebels', 'Vinlanders Social Club', 'Vinlandic Werwolf Distribution', 'Virginia Moms for America', 'Virginia Parents Involved in Education', 'Voices Against Tyranny', 'War On The Horizon', 'Warriors for Christ', 'Washington State Parents Involved in Education', 'Watchmen', 'Watchmen for Israel', 'We Are Change', 'We Are Change Huerfano County', 'We the People for Constitutional Sheriffs', 'West Ohio Minutemen', 'West Virginia Parents Involved in Education', 'Westboro Baptist Church', 'What Really Happened', 'White Christian Brotherhood of the Ku Klux Klan', 'White Date', 'White Power Hour', 'White Rabbit Radio', 'Wild Bill for America', 'Will2Rise', 'Winter Solace Productions', 'Wisconsin Parents Involved in Education', 'Wolves of Vinland', 'Women Fighting for America', 'Women for Aryan Unity', 'World Congress of Families/International Organization for the Family', 'WorldNetDaily', 'Wyoming Parents Involved in Education', 'XY Crew']\n"
     ]
    }
   ],
   "source": [
    "df_hate['MainGroup'] = df_hate['Title'].apply(lambda x: x.split('-')[0].strip())\n",
    "\n",
    "# Get unique main group names\n",
    "unique_main_groups = df_hate['MainGroup'].unique()\n",
    "\n",
    "# Convert the array of unique values to a list\n",
    "hate_list = list(unique_main_groups)\n",
    "\n",
    "print(hate_list)"
   ]
  },
  {
   "cell_type": "markdown",
   "id": "ce936a05",
   "metadata": {},
   "source": [
    "# Regex the crowdsize stuff"
   ]
  },
  {
   "cell_type": "code",
   "execution_count": null,
   "id": "f38341d0",
   "metadata": {},
   "outputs": [],
   "source": [
    "df['crowd_size_numerical'].value_counts()"
   ]
  },
  {
   "cell_type": "code",
   "execution_count": null,
   "id": "73e5747a",
   "metadata": {},
   "outputs": [],
   "source": [
    "{'hundred': 100, \n",
    "hundreds: 100}"
   ]
  },
  {
   "cell_type": "markdown",
   "id": "771a7f69",
   "metadata": {},
   "source": [
    "# !!PRINT THE NEW FILES FOR EXPLORATION DO THIS FIRST TOMORROW!!"
   ]
  },
  {
   "cell_type": "code",
   "execution_count": null,
   "id": "2147fa86",
   "metadata": {},
   "outputs": [],
   "source": [
    "# df.to_csv(file_name, encoding='utf-8', index=False)"
   ]
  },
  {
   "cell_type": "code",
   "execution_count": null,
   "id": "1fa6ccb2",
   "metadata": {},
   "outputs": [],
   "source": []
  },
  {
   "cell_type": "code",
   "execution_count": null,
   "id": "33dae191",
   "metadata": {},
   "outputs": [],
   "source": []
  },
  {
   "cell_type": "code",
   "execution_count": null,
   "id": "cad0b97f",
   "metadata": {},
   "outputs": [],
   "source": []
  },
  {
   "cell_type": "code",
   "execution_count": null,
   "id": "7dfdacbd",
   "metadata": {},
   "outputs": [],
   "source": []
  },
  {
   "cell_type": "code",
   "execution_count": null,
   "id": "943be4a2",
   "metadata": {},
   "outputs": [],
   "source": []
  },
  {
   "cell_type": "code",
   "execution_count": null,
   "id": "a08aeee9",
   "metadata": {},
   "outputs": [],
   "source": []
  },
  {
   "cell_type": "code",
   "execution_count": null,
   "id": "9ff1a394",
   "metadata": {},
   "outputs": [],
   "source": []
  },
  {
   "cell_type": "code",
   "execution_count": null,
   "id": "e8cb6ac6",
   "metadata": {},
   "outputs": [],
   "source": []
  },
  {
   "cell_type": "code",
   "execution_count": null,
   "id": "7fab7cbd",
   "metadata": {},
   "outputs": [],
   "source": []
  },
  {
   "cell_type": "markdown",
   "id": "14dd7141",
   "metadata": {},
   "source": [
    "# Events that happen at same lat/long on same day or next day"
   ]
  },
  {
   "cell_type": "code",
   "execution_count": null,
   "id": "72e669a0",
   "metadata": {},
   "outputs": [],
   "source": []
  },
  {
   "cell_type": "code",
   "execution_count": null,
   "id": "1d3becfe",
   "metadata": {},
   "outputs": [],
   "source": []
  },
  {
   "cell_type": "code",
   "execution_count": null,
   "id": "22e86b23",
   "metadata": {},
   "outputs": [],
   "source": []
  },
  {
   "cell_type": "code",
   "execution_count": null,
   "id": "849a01d1",
   "metadata": {},
   "outputs": [],
   "source": []
  },
  {
   "cell_type": "code",
   "execution_count": null,
   "id": "5cc99be8",
   "metadata": {},
   "outputs": [],
   "source": []
  },
  {
   "cell_type": "code",
   "execution_count": null,
   "id": "8f8e152f",
   "metadata": {},
   "outputs": [],
   "source": [
    "strategic_developments = df.loc[df['DISORDER_TYPE']== 'Strategic developments']"
   ]
  },
  {
   "cell_type": "code",
   "execution_count": null,
   "id": "32fea9bf",
   "metadata": {},
   "outputs": [],
   "source": [
    "strategic_developments.loc[strategic_developments[\"SUB_EVENT_TYPE\"]==\"Change to group/activity\"][\"NOTES\"].head(20)\n",
    "# df.loc[df['SUB_EVENT_TYPE']== 'Disrupted weapons use'][\"NOTES\"].head()"
   ]
  },
  {
   "cell_type": "code",
   "execution_count": null,
   "id": "1e36c238",
   "metadata": {},
   "outputs": [],
   "source": [
    "# df[df['SUB_EVENT_TYPE' == 'Disrupted weapons use']]\n",
    "df.loc[df['SUB_EVENT_TYPE']== 'Disrupted weapons use'][\"NOTES\"].head(30)"
   ]
  },
  {
   "cell_type": "code",
   "execution_count": null,
   "id": "62a2225e",
   "metadata": {},
   "outputs": [],
   "source": [
    "df[]"
   ]
  },
  {
   "cell_type": "code",
   "execution_count": null,
   "id": "5898f77a",
   "metadata": {},
   "outputs": [],
   "source": []
  },
  {
   "cell_type": "code",
   "execution_count": null,
   "id": "80e9e567",
   "metadata": {},
   "outputs": [],
   "source": []
  },
  {
   "cell_type": "code",
   "execution_count": null,
   "id": "fa7accc6",
   "metadata": {},
   "outputs": [],
   "source": []
  },
  {
   "cell_type": "code",
   "execution_count": null,
   "id": "a2eac28b",
   "metadata": {},
   "outputs": [],
   "source": []
  },
  {
   "cell_type": "markdown",
   "id": "45d9fed6",
   "metadata": {},
   "source": [
    "# Preprocess data"
   ]
  },
  {
   "cell_type": "code",
   "execution_count": null,
   "id": "a019e1c1",
   "metadata": {},
   "outputs": [],
   "source": [
    "X = data.drop('target_column', axis=1)\n",
    "y = data['target_column']"
   ]
  },
  {
   "cell_type": "markdown",
   "id": "6e011c83",
   "metadata": {},
   "source": [
    "# Train Test Split"
   ]
  },
  {
   "cell_type": "code",
   "execution_count": null,
   "id": "e35382b5",
   "metadata": {},
   "outputs": [],
   "source": [
    "X_train, X_test, y_train, y_test = train_test_split(X, y, test_size=0.2, random_state=42)\n"
   ]
  },
  {
   "cell_type": "markdown",
   "id": "f51cfea2",
   "metadata": {},
   "source": [
    "# Feature Scaling"
   ]
  },
  {
   "cell_type": "code",
   "execution_count": null,
   "id": "9969f139",
   "metadata": {},
   "outputs": [],
   "source": [
    "scaler = StandardScaler()\n",
    "X_train = scaler.fit_transform(X_train)\n",
    "X_test = scaler.transform(X_test)\n"
   ]
  },
  {
   "cell_type": "markdown",
   "id": "d526b424",
   "metadata": {},
   "source": [
    "# Regression or classification model fit"
   ]
  },
  {
   "cell_type": "code",
   "execution_count": null,
   "id": "8e099a6d",
   "metadata": {},
   "outputs": [],
   "source": [
    "model = LinearRegression()\n",
    "model.fit(X_train, y_train)\n",
    "model = RandomForestClassifier(random_state=42)\n",
    "model.fit(X_train, y_train)"
   ]
  },
  {
   "cell_type": "markdown",
   "id": "c774ad03",
   "metadata": {},
   "source": [
    "# Make Predictions\n"
   ]
  },
  {
   "cell_type": "code",
   "execution_count": null,
   "id": "9fb16845",
   "metadata": {},
   "outputs": [],
   "source": [
    "y_pred = model.predict(X_test)\n"
   ]
  },
  {
   "cell_type": "markdown",
   "id": "ec425a6b",
   "metadata": {},
   "source": [
    "# Evaluate"
   ]
  },
  {
   "cell_type": "code",
   "execution_count": null,
   "id": "e81c0062",
   "metadata": {},
   "outputs": [],
   "source": [
    "mse = mean_squared_error(y_test, y_pred) #regression\n",
    "print(f'Mean Squared Error: {mse}')\n",
    "accuracy = accuracy_score(y_test, y_pred) #classification\n",
    "print(f'Accuracy: {accuracy}')"
   ]
  },
  {
   "cell_type": "code",
   "execution_count": null,
   "id": "70fd1627",
   "metadata": {},
   "outputs": [],
   "source": []
  },
  {
   "cell_type": "code",
   "execution_count": null,
   "id": "96424e6f",
   "metadata": {},
   "outputs": [],
   "source": []
  },
  {
   "cell_type": "code",
   "execution_count": null,
   "id": "960450aa",
   "metadata": {},
   "outputs": [],
   "source": []
  },
  {
   "cell_type": "code",
   "execution_count": null,
   "id": "7b3f7d8e",
   "metadata": {},
   "outputs": [],
   "source": []
  },
  {
   "cell_type": "code",
   "execution_count": null,
   "id": "0a3f6759",
   "metadata": {},
   "outputs": [],
   "source": []
  },
  {
   "cell_type": "code",
   "execution_count": null,
   "id": "eb34e104",
   "metadata": {},
   "outputs": [],
   "source": []
  },
  {
   "cell_type": "code",
   "execution_count": null,
   "id": "84c9cc2c",
   "metadata": {},
   "outputs": [],
   "source": []
  },
  {
   "cell_type": "code",
   "execution_count": null,
   "id": "fccded4e",
   "metadata": {},
   "outputs": [],
   "source": []
  },
  {
   "cell_type": "code",
   "execution_count": null,
   "id": "47bcb24d",
   "metadata": {},
   "outputs": [],
   "source": []
  },
  {
   "cell_type": "code",
   "execution_count": null,
   "id": "f9e32d7e",
   "metadata": {},
   "outputs": [],
   "source": []
  },
  {
   "cell_type": "code",
   "execution_count": null,
   "id": "78c2eca3",
   "metadata": {},
   "outputs": [],
   "source": []
  },
  {
   "cell_type": "code",
   "execution_count": null,
   "id": "ffa873d2",
   "metadata": {},
   "outputs": [],
   "source": []
  },
  {
   "cell_type": "code",
   "execution_count": null,
   "id": "dc3f86dc",
   "metadata": {},
   "outputs": [],
   "source": []
  },
  {
   "cell_type": "code",
   "execution_count": null,
   "id": "4b5ca3cb",
   "metadata": {},
   "outputs": [],
   "source": []
  },
  {
   "cell_type": "code",
   "execution_count": null,
   "id": "b3b058b9",
   "metadata": {},
   "outputs": [],
   "source": []
  },
  {
   "cell_type": "markdown",
   "id": "86496af5",
   "metadata": {},
   "source": [
    "# TRASH ZONEEEE"
   ]
  },
  {
   "cell_type": "raw",
   "id": "7034e791",
   "metadata": {},
   "source": []
  },
  {
   "cell_type": "code",
   "execution_count": null,
   "id": "0ce237bc",
   "metadata": {},
   "outputs": [],
   "source": [
    "import re\n",
    "\n",
    "def parse_crowd_size(crowd_size_string):\n",
    "    # Remove 'crowd size=' prefix\n",
    "    crowd_size_string = crowd_size_string.replace('crowd size=', '').lower()\n",
    "    \n",
    "    # Handle simple cases (exact number)\n",
    "    match = re.match(r'^(\\d+)$', crowd_size_string)\n",
    "    if match:\n",
    "        return int(match.group(1))\n",
    "    \n",
    "    # Handle ranges\n",
    "    match = re.match(r'.*(\\d+)\\s*to\\s*(\\d+).*', crowd_size_string)\n",
    "    if match:\n",
    "        lower = int(match.group(1))\n",
    "        upper = int(match.group(2))\n",
    "        return (lower + upper) / 2\n",
    "    \n",
    "    # Handle qualitative descriptions\n",
    "    if 'dozen' in crowd_size_string:\n",
    "        match = re.match(r'.*over\\s*(\\d+)\\s*dozen.*', crowd_size_string)\n",
    "        return (int(match.group(1)) + 1) * 12 if match else 12\n",
    "    \n",
    "    if 'hundred' in crowd_size_string:\n",
    "        match = re.match(r'.*over\\s*(\\d+)\\s*hundred.*', crowd_size_string)\n",
    "        return (int(match.group(1)) + 1) * 100 if match else 100\n",
    "    \n",
    "    # Additional cases and logic can be added here\n",
    "    \n",
    "    # Return None if the string could not be parsed\n",
    "    return None\n",
    "\n",
    "# Example usage\n",
    "# crowd_sizes = [\n",
    "#     'crowd size=over 24',\n",
    "#     'crowd size=140',\n",
    "#     'crowd size=approximately 300',\n",
    "#     'crowd size=35 to 40',\n",
    "#     'crowd size=approximately between 24-150+',\n",
    "#     # ...\n",
    "# ]\n",
    "\n",
    "# Parse the crowd sizes\n",
    "parsed_sizes = [parse_crowd_size(cs) for cs in crowd_size_list]\n",
    "\n",
    "# Display the parsed sizes\n",
    "print(parsed_sizes)\n"
   ]
  },
  {
   "cell_type": "code",
   "execution_count": null,
   "id": "dffa523d",
   "metadata": {},
   "outputs": [],
   "source": [
    "print([[x,parsed_sizes.count(x)] for x in set(parsed_sizes)])\n",
    "\n",
    "# print(dict((x,parsed_sizes.count(x)) for x in set(parsed_sizes)))"
   ]
  }
 ],
 "metadata": {
  "kernelspec": {
   "display_name": "Python 3 (ipykernel)",
   "language": "python",
   "name": "python3"
  },
  "language_info": {
   "codemirror_mode": {
    "name": "ipython",
    "version": 3
   },
   "file_extension": ".py",
   "mimetype": "text/x-python",
   "name": "python",
   "nbconvert_exporter": "python",
   "pygments_lexer": "ipython3",
   "version": "3.8.16"
  }
 },
 "nbformat": 4,
 "nbformat_minor": 5
}
